{
 "cells": [
  {
   "cell_type": "markdown",
   "metadata": {},
   "source": [
    "**Market basket analysis is a simple but important technique commonly used by retailers to provide product recommendations. It uses transactional datasets to determine which products are frequently purchased together. Retailers can use the recommendations to inform personalized cross-selling and upselling, helping increase conversion and maximizing the value of each customer.**"
   ]
  },
  {
   "cell_type": "markdown",
   "metadata": {},
   "source": [
    "**You most likely have already seen market basket analysis in action while browsing through Amazon.com. An Amazon.com product page will usually have a section called “Customers who bought this item also bought,” presenting you with a list of items that are frequently bought together with the product you are currently browsing. That list is generated via market basket analysis. Market basket analysis is also used by brick-and-mortar retailers for store optimization by informing product placements and adjacencies in planograms. The idea is to drive more sales by placing complementary items next to each other.**"
   ]
  },
  {
   "cell_type": "markdown",
   "metadata": {},
   "source": [
    "**Market basket analysis uses association rules learning to make recommendations. Association rules look for relationships between items using large transactional datasets.xiv Association rules are calculated from two or more items called itemsets. An association rule consists of an antecedent (if) and a consequent (then). For example, if someone buys cookies (antecedent), then the person is also more likely to buy milk (consequent). Popular association rule algorithms include Apriori, SETM, ECLAT, and FP-Growth. Spark MLlib includes a highly scalable implementation of FP-Growth for association rule mining.xv FP-Growth identifies frequent items and calculates item frequencies using a frequent pattern (“FP” stands for frequent pattern) tree structure.xvi**"
   ]
  },
  {
   "cell_type": "markdown",
   "metadata": {},
   "source": [
    "We will use the popular Instacart Online Grocery Shopping Dataset for our market basket analysis example using FP-Growth.xviii The dataset contains 3.4 million grocery orders for 50,000 products from 200,000 Instacart customers. You can download the dataset from www.instacart.com/datasets/grocery-shopping-2017. For FP-Growth, we only need the products and order_products_train tables"
   ]
  },
  {
   "cell_type": "markdown",
   "metadata": {},
   "source": [
    "##### uncomment and run as code cell to download the dataset\n",
    "! wget https://s3.amazonaws.com/instacart-datasets/instacart_online_grocery_shopping_2017_05_01.tar.gz"
   ]
  },
  {
   "cell_type": "code",
   "execution_count": 1,
   "metadata": {},
   "outputs": [],
   "source": [
    "from pyspark.context import SparkContext\n",
    "from pyspark.sql import SparkSession\n",
    "sc = SparkContext(\"local\", \"Market Bucket Analysis\")\n",
    "spark = SparkSession(sc)"
   ]
  },
  {
   "cell_type": "code",
   "execution_count": 2,
   "metadata": {},
   "outputs": [
    {
     "name": "stdout",
     "output_type": "stream",
     "text": [
      "aisles.csv\t order_products__prior.csv  orders.csv\r\n",
      "departments.csv  order_products__train.csv  products.csv\r\n"
     ]
    }
   ],
   "source": [
    "! ls ../datasets/instacart_2017_05_01/"
   ]
  },
  {
   "cell_type": "code",
   "execution_count": 3,
   "metadata": {},
   "outputs": [],
   "source": [
    "df_products = spark.read.csv(\"../datasets/instacart_2017_05_01/products.csv\", header=True, inferSchema=True)"
   ]
  },
  {
   "cell_type": "code",
   "execution_count": 4,
   "metadata": {},
   "outputs": [
    {
     "name": "stdout",
     "output_type": "stream",
     "text": [
      "+----------+--------------------+--------+-------------+\n",
      "|product_id|        product_name|aisle_id|department_id|\n",
      "+----------+--------------------+--------+-------------+\n",
      "|         1|Chocolate Sandwic...|      61|           19|\n",
      "|         2|    All-Seasons Salt|     104|           13|\n",
      "|         3|Robust Golden Uns...|      94|            7|\n",
      "|         4|Smart Ones Classi...|      38|            1|\n",
      "|         5|Green Chile Anyti...|       5|           13|\n",
      "|         6|        Dry Nose Oil|      11|           11|\n",
      "|         7|Pure Coconut Wate...|      98|            7|\n",
      "|         8|Cut Russet Potato...|     116|            1|\n",
      "|         9|Light Strawberry ...|     120|           16|\n",
      "|        10|Sparkling Orange ...|     115|            7|\n",
      "|        11|   Peach Mango Juice|      31|            7|\n",
      "|        12|Chocolate Fudge L...|     119|            1|\n",
      "|        13|   Saline Nasal Mist|      11|           11|\n",
      "|        14|Fresh Scent Dishw...|      74|           17|\n",
      "|        15|Overnight Diapers...|      56|           18|\n",
      "|        16|Mint Chocolate Fl...|     103|           19|\n",
      "|        17|   Rendered Duck Fat|      35|           12|\n",
      "|        18|Pizza for One Sup...|      79|            1|\n",
      "|        19|Gluten Free Quino...|      63|            9|\n",
      "|        20|Pomegranate Cranb...|      98|            7|\n",
      "+----------+--------------------+--------+-------------+\n",
      "only showing top 20 rows\n",
      "\n"
     ]
    }
   ],
   "source": [
    "df_products.show()"
   ]
  },
  {
   "cell_type": "code",
   "execution_count": 5,
   "metadata": {},
   "outputs": [],
   "source": [
    "df_order_products = spark.read.csv(\"../datasets/instacart_2017_05_01/order_products__train.csv\", header=True, inferSchema=True)"
   ]
  },
  {
   "cell_type": "code",
   "execution_count": 6,
   "metadata": {},
   "outputs": [
    {
     "name": "stdout",
     "output_type": "stream",
     "text": [
      "+--------+----------+-----------------+---------+\n",
      "|order_id|product_id|add_to_cart_order|reordered|\n",
      "+--------+----------+-----------------+---------+\n",
      "|       1|     49302|                1|        1|\n",
      "|       1|     11109|                2|        1|\n",
      "|       1|     10246|                3|        0|\n",
      "|       1|     49683|                4|        0|\n",
      "|       1|     43633|                5|        1|\n",
      "|       1|     13176|                6|        0|\n",
      "|       1|     47209|                7|        0|\n",
      "|       1|     22035|                8|        1|\n",
      "|      36|     39612|                1|        0|\n",
      "|      36|     19660|                2|        1|\n",
      "|      36|     49235|                3|        0|\n",
      "|      36|     43086|                4|        1|\n",
      "|      36|     46620|                5|        1|\n",
      "|      36|     34497|                6|        1|\n",
      "|      36|     48679|                7|        1|\n",
      "|      36|     46979|                8|        1|\n",
      "|      38|     11913|                1|        0|\n",
      "|      38|     18159|                2|        0|\n",
      "|      38|      4461|                3|        0|\n",
      "|      38|     21616|                4|        1|\n",
      "+--------+----------+-----------------+---------+\n",
      "only showing top 20 rows\n",
      "\n"
     ]
    }
   ],
   "source": [
    "df_order_products.show()"
   ]
  },
  {
   "cell_type": "markdown",
   "metadata": {},
   "source": [
    "### create temporary tables"
   ]
  },
  {
   "cell_type": "code",
   "execution_count": 7,
   "metadata": {},
   "outputs": [],
   "source": [
    "df_order_products.createOrReplaceTempView(\"order_products_train\")\n",
    "df_products.createOrReplaceTempView(\"products\")"
   ]
  },
  {
   "cell_type": "markdown",
   "metadata": {},
   "source": [
    "note: the views are created for sql functions otherwise the dataframe remains the same"
   ]
  },
  {
   "cell_type": "markdown",
   "metadata": {},
   "source": [
    "##### do joins on dataframe "
   ]
  },
  {
   "cell_type": "code",
   "execution_count": 8,
   "metadata": {},
   "outputs": [],
   "source": [
    "joined_data = spark.sql(\"select p.product_name, o.order_id \\\n",
    "from order_products_train o inner join products p \\\n",
    "where p.product_id = o.product_id\")"
   ]
  },
  {
   "cell_type": "code",
   "execution_count": 9,
   "metadata": {},
   "outputs": [],
   "source": [
    "from pyspark.sql.functions import max as spark_max\n",
    "from pyspark.sql.functions import collect_set"
   ]
  },
  {
   "cell_type": "code",
   "execution_count": 10,
   "metadata": {},
   "outputs": [],
   "source": [
    "df_baskets = joined_data.groupBy('order_id').agg(collect_set('product_name').alias('items'))"
   ]
  },
  {
   "cell_type": "code",
   "execution_count": 11,
   "metadata": {},
   "outputs": [],
   "source": [
    "df_baskets.createOrReplaceTempView(\"baskets\")"
   ]
  },
  {
   "cell_type": "code",
   "execution_count": 12,
   "metadata": {},
   "outputs": [
    {
     "name": "stdout",
     "output_type": "stream",
     "text": [
      "+--------+-------------------------+\n",
      "|order_id|                    items|\n",
      "+--------+-------------------------+\n",
      "|    1342|[Raw Shrimp, Seedless ...|\n",
      "|    1591|[Cracked Wheat, Strawb...|\n",
      "|    4519|[Beet Apple Carrot Lem...|\n",
      "|    4935|                  [Vodka]|\n",
      "|    6357|[Globe Eggplant, Panko...|\n",
      "|   10362|[Organic Baby Spinach,...|\n",
      "|   19204|[Reduced Fat Crackers,...|\n",
      "|   29601|[Organic Red Onion, Sm...|\n",
      "|   31035|[Organic Cripps Pink A...|\n",
      "|   40011|[Organic Baby Spinach,...|\n",
      "|   46266|[Uncured Beef Hot Dog,...|\n",
      "|   51607|[Donut House Chocolate...|\n",
      "|   58797|[Concentrated Butcher'...|\n",
      "|   61793|[Raspberries, Green Se...|\n",
      "|   67089|[Original Tofurky Deli...|\n",
      "|   70863|[Extra Hold Non-Aeroso...|\n",
      "|   88674|[Organic Coconut Milk,...|\n",
      "|   91937|[No. 485 Gin, Monterey...|\n",
      "|   92317|[Red Vine Tomato, Harv...|\n",
      "|   99621|[Organic Baby Arugula,...|\n",
      "+--------+-------------------------+\n",
      "only showing top 20 rows\n",
      "\n"
     ]
    }
   ],
   "source": [
    "df_baskets.show(20,25)"
   ]
  },
  {
   "cell_type": "code",
   "execution_count": 13,
   "metadata": {},
   "outputs": [],
   "source": [
    "from pyspark.ml.fpm import FPGrowth"
   ]
  },
  {
   "cell_type": "markdown",
   "metadata": {},
   "source": [
    "FPGrowth needs string containing list of items"
   ]
  },
  {
   "cell_type": "code",
   "execution_count": 14,
   "metadata": {},
   "outputs": [],
   "source": [
    "df_baskets = spark.sql(\"SELECT items from baskets\").toDF(\"items\")"
   ]
  },
  {
   "cell_type": "code",
   "execution_count": 15,
   "metadata": {},
   "outputs": [
    {
     "name": "stdout",
     "output_type": "stream",
     "text": [
      "+--------------------+\n",
      "|               items|\n",
      "+--------------------+\n",
      "|[Raw Shrimp, Seed...|\n",
      "|[Cracked Wheat, S...|\n",
      "|[Beet Apple Carro...|\n",
      "|             [Vodka]|\n",
      "|[Globe Eggplant, ...|\n",
      "|[Organic Baby Spi...|\n",
      "|[Reduced Fat Crac...|\n",
      "|[Organic Red Onio...|\n",
      "|[Organic Cripps P...|\n",
      "|[Organic Baby Spi...|\n",
      "|[Uncured Beef Hot...|\n",
      "|[Donut House Choc...|\n",
      "|[Concentrated But...|\n",
      "|[Raspberries, Gre...|\n",
      "|[Original Tofurky...|\n",
      "|[Extra Hold Non-A...|\n",
      "|[Organic Coconut ...|\n",
      "|[No. 485 Gin, Mon...|\n",
      "|[Red Vine Tomato,...|\n",
      "|[Organic Baby Aru...|\n",
      "+--------------------+\n",
      "only showing top 20 rows\n",
      "\n"
     ]
    }
   ],
   "source": [
    "df_baskets.show()"
   ]
  },
  {
   "cell_type": "markdown",
   "metadata": {},
   "source": [
    "#### train FPGrowth "
   ]
  },
  {
   "cell_type": "code",
   "execution_count": 16,
   "metadata": {},
   "outputs": [],
   "source": [
    "fpgrowth = FPGrowth(\n",
    "            itemsCol=\"items\",\n",
    "            minSupport=0.002,\n",
    "            minConfidence=0\n",
    ")"
   ]
  },
  {
   "cell_type": "code",
   "execution_count": 17,
   "metadata": {},
   "outputs": [],
   "source": [
    "model = fpgrowth.fit(df_baskets)"
   ]
  },
  {
   "cell_type": "code",
   "execution_count": 18,
   "metadata": {},
   "outputs": [],
   "source": [
    "most_popular_items = model.freqItemsets"
   ]
  },
  {
   "cell_type": "code",
   "execution_count": 19,
   "metadata": {},
   "outputs": [],
   "source": [
    "most_popular_items.createOrReplaceTempView(\"mostPopularItems\")"
   ]
  },
  {
   "cell_type": "markdown",
   "metadata": {},
   "source": [
    "#### verify results "
   ]
  },
  {
   "cell_type": "code",
   "execution_count": 31,
   "metadata": {},
   "outputs": [
    {
     "name": "stdout",
     "output_type": "stream",
     "text": [
      "+----------------------------------------------+----+\n",
      "|                                         items|freq|\n",
      "+----------------------------------------------+----+\n",
      "|[Organic Strawberries, Bag of Organic Bananas]|3074|\n",
      "|[Organic Hass Avocado, Bag of Organic Bananas]|2420|\n",
      "|[Organic Baby Spinach, Bag of Organic Bananas]|2236|\n",
      "|                     [Organic Avocado, Banana]|2216|\n",
      "|                [Organic Strawberries, Banana]|2174|\n",
      "|                         [Large Lemon, Banana]|2158|\n",
      "|                [Organic Baby Spinach, Banana]|2000|\n",
      "|                        [Strawberries, Banana]|1948|\n",
      "| [Organic Raspberries, Bag of Organic Bananas]|1780|\n",
      "|   [Organic Raspberries, Organic Strawberries]|1670|\n",
      "|  [Organic Baby Spinach, Organic Strawberries]|1639|\n",
      "|                          [Limes, Large Lemon]|1595|\n",
      "|  [Organic Hass Avocado, Organic Strawberries]|1539|\n",
      "|       [Organic Avocado, Organic Baby Spinach]|1402|\n",
      "|                [Organic Avocado, Large Lemon]|1349|\n",
      "|                               [Limes, Banana]|1331|\n",
      "|   [Organic Blueberries, Organic Strawberries]|1269|\n",
      "|    [Organic Cucumber, Bag of Organic Bananas]|1268|\n",
      "|  [Organic Hass Avocado, Organic Baby Spinach]|1252|\n",
      "|           [Large Lemon, Organic Baby Spinach]|1238|\n",
      "+----------------------------------------------+----+\n",
      "only showing top 20 rows\n",
      "\n"
     ]
    }
   ],
   "source": [
    "spark.sql(\"select items, freq from mostPopularItems where size(items) >= 2 order by freq desc\").show(20,55)"
   ]
  },
  {
   "cell_type": "code",
   "execution_count": 30,
   "metadata": {},
   "outputs": [
    {
     "name": "stdout",
     "output_type": "stream",
     "text": [
      "+-----------------------------------------------------------------+----+\n",
      "|                                                            items|freq|\n",
      "+-----------------------------------------------------------------+----+\n",
      "|[Organic Hass Avocado, Organic Strawberries, Bag of Organic Ba...| 710|\n",
      "|[Organic Raspberries, Organic Strawberries, Bag of Organic Ban...| 649|\n",
      "|[Organic Baby Spinach, Organic Strawberries, Bag of Organic Ba...| 587|\n",
      "|[Organic Raspberries, Organic Hass Avocado, Bag of Organic Ban...| 531|\n",
      "|[Organic Hass Avocado, Organic Baby Spinach, Bag of Organic Ba...| 497|\n",
      "|                  [Organic Avocado, Organic Baby Spinach, Banana]| 484|\n",
      "|                           [Organic Avocado, Large Lemon, Banana]| 477|\n",
      "|                                     [Limes, Large Lemon, Banana]| 452|\n",
      "| [Organic Cucumber, Organic Strawberries, Bag of Organic Bananas]| 424|\n",
      "|                            [Limes, Organic Avocado, Large Lemon]| 389|\n",
      "|[Organic Raspberries, Organic Hass Avocado, Organic Strawberries]| 381|\n",
      "|                  [Organic Avocado, Organic Strawberries, Banana]| 379|\n",
      "|             [Organic Baby Spinach, Organic Strawberries, Banana]| 376|\n",
      "|[Organic Blueberries, Organic Strawberries, Bag of Organic Ban...| 374|\n",
      "|                      [Large Lemon, Organic Baby Spinach, Banana]| 371|\n",
      "| [Organic Cucumber, Organic Hass Avocado, Bag of Organic Bananas]| 366|\n",
      "|    [Organic Lemon, Organic Hass Avocado, Bag of Organic Bananas]| 353|\n",
      "|                                 [Limes, Organic Avocado, Banana]| 352|\n",
      "|[Organic Whole Milk, Organic Strawberries, Bag of Organic Bana...| 339|\n",
      "|             [Organic Avocado, Large Lemon, Organic Baby Spinach]| 334|\n",
      "+-----------------------------------------------------------------+----+\n",
      "only showing top 20 rows\n",
      "\n"
     ]
    }
   ],
   "source": [
    "spark.sql(\"select items, freq from mostPopularItems where size(items) > 2 order by freq desc\").show(20,65)"
   ]
  },
  {
   "cell_type": "markdown",
   "metadata": {},
   "source": [
    "Both lists shows the items that are likely to be purchased together"
   ]
  },
  {
   "cell_type": "markdown",
   "metadata": {},
   "source": [
    "##### The FP-Growth model also generates association rules. The output includes // the antecedent, consequent, and confidence (probability). The minimum // confidence for generating association rule is determined by the // minConfidence parameter. "
   ]
  },
  {
   "cell_type": "code",
   "execution_count": 32,
   "metadata": {},
   "outputs": [],
   "source": [
    "assoc_rules = model.associationRules"
   ]
  },
  {
   "cell_type": "code",
   "execution_count": 33,
   "metadata": {},
   "outputs": [],
   "source": [
    "assoc_rules.createOrReplaceTempView(\"AssocRules\")"
   ]
  },
  {
   "cell_type": "code",
   "execution_count": 34,
   "metadata": {},
   "outputs": [
    {
     "name": "stdout",
     "output_type": "stream",
     "text": [
      "+-------------------------------------------------------+------------------------+-------------------+\n",
      "|                                             antecedent|              consequent|         confidence|\n",
      "+-------------------------------------------------------+------------------------+-------------------+\n",
      "|            [Organic Raspberries, Organic Hass Avocado]|[Bag of Organic Bananas]|  0.521099116781158|\n",
      "|                        [Strawberries, Organic Avocado]|                [Banana]| 0.4643478260869565|\n",
      "|           [Organic Hass Avocado, Organic Strawberries]|[Bag of Organic Bananas]| 0.4613385315139701|\n",
      "|                  [Organic Lemon, Organic Hass Avocado]|[Bag of Organic Bananas]| 0.4519846350832266|\n",
      "|                  [Organic Lemon, Organic Strawberries]|[Bag of Organic Bananas]| 0.4505169867060561|\n",
      "|               [Organic Cucumber, Organic Hass Avocado]|[Bag of Organic Bananas]| 0.4404332129963899|\n",
      "|[Organic Large Extra Fancy Fuji Apple, Organic Straw...|[Bag of Organic Bananas]| 0.4338461538461538|\n",
      "|           [Organic Yellow Onion, Organic Hass Avocado]|[Bag of Organic Bananas]|0.42270861833105333|\n",
      "|                            [Strawberries, Large Lemon]|                [Banana]| 0.4187779433681073|\n",
      "|             [Organic Blueberries, Organic Raspberries]|  [Organic Strawberries]|  0.414985590778098|\n",
      "|               [Organic Cucumber, Organic Strawberries]|[Bag of Organic Bananas]| 0.4108527131782946|\n",
      "|               [Organic Zucchini, Organic Hass Avocado]|[Bag of Organic Bananas]|0.40930232558139534|\n",
      "|            [Organic Raspberries, Organic Baby Spinach]|[Bag of Organic Bananas]|0.40706806282722513|\n",
      "|           [Organic Hass Avocado, Organic Baby Spinach]|[Bag of Organic Bananas]|0.39696485623003197|\n",
      "|               [Organic Zucchini, Organic Strawberries]|[Bag of Organic Bananas]| 0.3914780292942743|\n",
      "|            [Organic Raspberries, Organic Strawberries]|[Bag of Organic Bananas]|0.38862275449101796|\n",
      "|                                       [Bartlett Pears]|                [Banana]| 0.3860811930405965|\n",
      "|                                          [Gala Apples]|                [Banana]|0.38373305526590196|\n",
      "|                               [Limes, Organic Avocado]|           [Large Lemon]| 0.3751205400192864|\n",
      "|            [Organic Raspberries, Organic Hass Avocado]|  [Organic Strawberries]|0.37389597644749756|\n",
      "+-------------------------------------------------------+------------------------+-------------------+\n",
      "only showing top 20 rows\n",
      "\n"
     ]
    }
   ],
   "source": [
    "spark.sql(\"select antecedent, consequent, confidence from AssocRules order by confidence desc\").show(20,55)"
   ]
  },
  {
   "cell_type": "markdown",
   "metadata": {},
   "source": [
    "According to the output, customers who bought organic raspberries, organic avocados, and organic strawberries are also more likely to buy organic bananas. As you can see, bananas are a very popular item. This kind of lists could be the basis for “customers who bought this item also bought”-type recommendations."
   ]
  },
  {
   "cell_type": "code",
   "execution_count": null,
   "metadata": {},
   "outputs": [],
   "source": []
  }
 ],
 "metadata": {
  "kernelspec": {
   "display_name": "Python 3",
   "language": "python",
   "name": "python3"
  },
  "language_info": {
   "codemirror_mode": {
    "name": "ipython",
    "version": 3
   },
   "file_extension": ".py",
   "mimetype": "text/x-python",
   "name": "python",
   "nbconvert_exporter": "python",
   "pygments_lexer": "ipython3",
   "version": "3.7.6"
  }
 },
 "nbformat": 4,
 "nbformat_minor": 4
}
