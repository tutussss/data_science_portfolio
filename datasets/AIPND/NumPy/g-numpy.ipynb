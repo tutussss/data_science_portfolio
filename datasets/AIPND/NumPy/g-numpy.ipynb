{
 "cells": [
  {
   "cell_type": "markdown",
   "metadata": {},
   "source": [
    "# GTest numpy"
   ]
  },
  {
   "cell_type": "markdown",
   "metadata": {},
   "source": [
    "### Create numpy arrays from Python arrays"
   ]
  },
  {
   "cell_type": "code",
   "execution_count": 5,
   "metadata": {},
   "outputs": [
    {
     "name": "stdout",
     "output_type": "stream",
     "text": [
      "[1 2 3 4 5]\n",
      "<class 'numpy.ndarray'>\n"
     ]
    }
   ],
   "source": [
    "import numpy as np\n",
    "\n",
    "x = np.array([1, 2, 3, 4, 5])\n",
    "\n",
    "print(x)\n",
    "print(type(x))"
   ]
  },
  {
   "cell_type": "code",
   "execution_count": 3,
   "metadata": {},
   "outputs": [
    {
     "data": {
      "text/plain": [
       "dtype('int32')"
      ]
     },
     "execution_count": 3,
     "metadata": {},
     "output_type": "execute_result"
    }
   ],
   "source": [
    "# Get type of objects in array\n",
    "x.dtype"
   ]
  },
  {
   "cell_type": "code",
   "execution_count": 4,
   "metadata": {},
   "outputs": [
    {
     "data": {
      "text/plain": [
       "(5,)"
      ]
     },
     "execution_count": 4,
     "metadata": {},
     "output_type": "execute_result"
    }
   ],
   "source": [
    "# Get tuple of dimensions\n",
    "x.shape"
   ]
  },
  {
   "cell_type": "code",
   "execution_count": 6,
   "metadata": {},
   "outputs": [
    {
     "name": "stdout",
     "output_type": "stream",
     "text": [
      "[[ 1  2  3]\n",
      " [ 4  5  6]\n",
      " [ 7  8  9]\n",
      " [10 11 12]]\n"
     ]
    }
   ],
   "source": [
    "# Multi-dimension\n",
    "y = np.array([[1, 2, 3], [4, 5, 6], [7, 8, 9], [10, 11, 12]])\n",
    "print(y)"
   ]
  },
  {
   "cell_type": "code",
   "execution_count": 7,
   "metadata": {},
   "outputs": [
    {
     "data": {
      "text/plain": [
       "(4, 3)"
      ]
     },
     "execution_count": 7,
     "metadata": {},
     "output_type": "execute_result"
    }
   ],
   "source": [
    "# Get tuple of dimensions\n",
    "y.shape"
   ]
  },
  {
   "cell_type": "code",
   "execution_count": 8,
   "metadata": {},
   "outputs": [
    {
     "data": {
      "text/plain": [
       "12"
      ]
     },
     "execution_count": 8,
     "metadata": {},
     "output_type": "execute_result"
    }
   ],
   "source": [
    "# Get number of elements\n",
    "y.size"
   ]
  },
  {
   "cell_type": "code",
   "execution_count": 10,
   "metadata": {},
   "outputs": [
    {
     "name": "stdout",
     "output_type": "stream",
     "text": [
      "['hello' 'world']\n"
     ]
    }
   ],
   "source": [
    "# Strings\n",
    "x = np.array(['hello', 'world'])\n",
    "print(x)"
   ]
  },
  {
   "cell_type": "code",
   "execution_count": 11,
   "metadata": {},
   "outputs": [
    {
     "name": "stdout",
     "output_type": "stream",
     "text": [
      "(2,)\n",
      "<class 'numpy.ndarray'>\n",
      "<U5\n"
     ]
    }
   ],
   "source": [
    "print(x.shape)\n",
    "print(type(x))\n",
    "print(x.dtype)"
   ]
  },
  {
   "cell_type": "code",
   "execution_count": 13,
   "metadata": {},
   "outputs": [
    {
     "name": "stdout",
     "output_type": "stream",
     "text": [
      "['1' '2' 'world']\n"
     ]
    }
   ],
   "source": [
    "# Combining types -> casts to a common type\n",
    "x = np.array([1, 2, 'world'])\n",
    "print(x)"
   ]
  },
  {
   "cell_type": "code",
   "execution_count": 14,
   "metadata": {},
   "outputs": [
    {
     "name": "stdout",
     "output_type": "stream",
     "text": [
      "(3,)\n",
      "<class 'numpy.ndarray'>\n",
      "<U11\n"
     ]
    }
   ],
   "source": [
    "print(x.shape)\n",
    "print(type(x))\n",
    "print(x.dtype)"
   ]
  },
  {
   "cell_type": "code",
   "execution_count": 15,
   "metadata": {},
   "outputs": [
    {
     "name": "stdout",
     "output_type": "stream",
     "text": [
      "[ 1.   2.   3.5] float64\n"
     ]
    }
   ],
   "source": [
    "# Combine int and float\n",
    "x = np.array([1, 2, 3.5])\n",
    "print(x, x.dtype)"
   ]
  },
  {
   "cell_type": "code",
   "execution_count": 16,
   "metadata": {},
   "outputs": [
    {
     "name": "stdout",
     "output_type": "stream",
     "text": [
      "[1 2 3] int64\n"
     ]
    }
   ],
   "source": [
    "# Specify the dtype\n",
    "x = np.array([1.5, 2.2, 3.7], dtype=np.int64)\n",
    "print(x, x.dtype)"
   ]
  },
  {
   "cell_type": "code",
   "execution_count": 17,
   "metadata": {},
   "outputs": [
    {
     "name": "stdout",
     "output_type": "stream",
     "text": [
      "[1 2 3]\n"
     ]
    }
   ],
   "source": [
    "# Save and load array to/from file\n",
    "x = np.array([1, 2, 3])\n",
    "print(x)"
   ]
  },
  {
   "cell_type": "code",
   "execution_count": 18,
   "metadata": {},
   "outputs": [],
   "source": [
    "np.save('my_array', x)"
   ]
  },
  {
   "cell_type": "code",
   "execution_count": 20,
   "metadata": {},
   "outputs": [
    {
     "name": "stdout",
     "output_type": "stream",
     "text": [
      "[1 2 3]\n"
     ]
    }
   ],
   "source": [
    "y = np.load('my_array.npy')\n",
    "print(y)"
   ]
  },
  {
   "cell_type": "markdown",
   "metadata": {},
   "source": [
    "### Create numpy arrays from numpy functions"
   ]
  },
  {
   "cell_type": "code",
   "execution_count": 21,
   "metadata": {},
   "outputs": [
    {
     "name": "stdout",
     "output_type": "stream",
     "text": [
      "[[ 0.  0.  0.  0.]\n",
      " [ 0.  0.  0.  0.]\n",
      " [ 0.  0.  0.  0.]]\n"
     ]
    }
   ],
   "source": [
    "# np.zeros -> create array with 0s\n",
    "x = np.zeros((3, 4))\n",
    "print(x)"
   ]
  },
  {
   "cell_type": "code",
   "execution_count": 22,
   "metadata": {},
   "outputs": [
    {
     "name": "stdout",
     "output_type": "stream",
     "text": [
      "[[0 0 0 0]\n",
      " [0 0 0 0]\n",
      " [0 0 0 0]]\n"
     ]
    }
   ],
   "source": [
    "x = np.zeros((3, 4), dtype=int)\n",
    "print(x)"
   ]
  },
  {
   "cell_type": "code",
   "execution_count": 23,
   "metadata": {},
   "outputs": [
    {
     "name": "stdout",
     "output_type": "stream",
     "text": [
      "[[1 1 1 1]\n",
      " [1 1 1 1]\n",
      " [1 1 1 1]]\n"
     ]
    }
   ],
   "source": [
    "# np.ones -> create array with 1s\n",
    "x = np.ones((3, 4), dtype=int)\n",
    "print(x)"
   ]
  },
  {
   "cell_type": "code",
   "execution_count": 27,
   "metadata": {},
   "outputs": [
    {
     "name": "stdout",
     "output_type": "stream",
     "text": [
      "[[ 5.  5.  5.]\n",
      " [ 5.  5.  5.]\n",
      " [ 5.  5.  5.]\n",
      " [ 5.  5.  5.]]\n"
     ]
    }
   ],
   "source": [
    "# np.full -> create array with whatever value you want\n",
    "x = np.full((4, 3), 5, dtype=float)\n",
    "print(x)"
   ]
  },
  {
   "cell_type": "code",
   "execution_count": 30,
   "metadata": {},
   "outputs": [
    {
     "name": "stdout",
     "output_type": "stream",
     "text": [
      "[[1 0 0 0 0]\n",
      " [0 1 0 0 0]\n",
      " [0 0 1 0 0]\n",
      " [0 0 0 1 0]\n",
      " [0 0 0 0 1]]\n"
     ]
    }
   ],
   "source": [
    "# Create identity matrix (1s at the diagonals)\n",
    "x = np.eye(5, dtype=np.int64)\n",
    "print(x)"
   ]
  },
  {
   "cell_type": "code",
   "execution_count": 31,
   "metadata": {},
   "outputs": [
    {
     "name": "stdout",
     "output_type": "stream",
     "text": [
      "[[10  0  0  0]\n",
      " [ 0 20  0  0]\n",
      " [ 0  0 30  0]\n",
      " [ 0  0  0 40]]\n"
     ]
    }
   ],
   "source": [
    "# Create matrix using diag\n",
    "x = np.diag([10, 20, 30, 40])\n",
    "print(x)"
   ]
  },
  {
   "cell_type": "code",
   "execution_count": 32,
   "metadata": {},
   "outputs": [
    {
     "name": "stdout",
     "output_type": "stream",
     "text": [
      "[0 1 2 3 4 5 6 7 8 9]\n"
     ]
    }
   ],
   "source": [
    "# a-range; creates a one dimensional array of evenly spaced values within a given interval\n",
    "x = np.arange(10) # start, stop, step (1 arg = stop)\n",
    "print(x)"
   ]
  },
  {
   "cell_type": "code",
   "execution_count": 33,
   "metadata": {},
   "outputs": [
    {
     "name": "stdout",
     "output_type": "stream",
     "text": [
      "[4 5 6 7 8 9]\n"
     ]
    }
   ],
   "source": [
    "# a-range; creates a one dimensional array of evenly spaced values within a given interval\n",
    "x = np.arange(4, 10) # start, stop, step (2 arg = start, stop)\n",
    "print(x)"
   ]
  },
  {
   "cell_type": "code",
   "execution_count": 34,
   "metadata": {},
   "outputs": [
    {
     "name": "stdout",
     "output_type": "stream",
     "text": [
      "[0 2 4 6 8]\n"
     ]
    }
   ],
   "source": [
    "# a-range; creates a one dimensional array of evenly spaced values within a given interval\n",
    "x = np.arange(0, 10, 2) # start, stop, step\n",
    "print(x)"
   ]
  },
  {
   "cell_type": "code",
   "execution_count": 35,
   "metadata": {},
   "outputs": [
    {
     "name": "stdout",
     "output_type": "stream",
     "text": [
      "[  0.           2.77777778   5.55555556   8.33333333  11.11111111\n",
      "  13.88888889  16.66666667  19.44444444  22.22222222  25.        ]\n"
     ]
    }
   ],
   "source": [
    "# linspace; start, stop, n; returns n evenly spaced numbers from start to stop, both being inclusive\n",
    "x = np.linspace(0, 25, 10)\n",
    "print(x)"
   ]
  },
  {
   "cell_type": "code",
   "execution_count": 36,
   "metadata": {},
   "outputs": [
    {
     "name": "stdout",
     "output_type": "stream",
     "text": [
      "[  0.    2.5   5.    7.5  10.   12.5  15.   17.5  20.   22.5]\n"
     ]
    }
   ],
   "source": [
    "# linspace; endpoint = false removes the stop point\n",
    "x = np.linspace(0, 25, 10, endpoint=False)\n",
    "print(x)"
   ]
  },
  {
   "cell_type": "code",
   "execution_count": 37,
   "metadata": {},
   "outputs": [
    {
     "name": "stdout",
     "output_type": "stream",
     "text": [
      "[ 0  1  2  3  4  5  6  7  8  9 10 11 12 13 14 15 16 17 18 19]\n",
      "[[ 0  1  2  3  4]\n",
      " [ 5  6  7  8  9]\n",
      " [10 11 12 13 14]\n",
      " [15 16 17 18 19]]\n"
     ]
    }
   ],
   "source": [
    "# reshape to create new shapes from existing\n",
    "x = np.arange(20)\n",
    "print(x)\n",
    "x = np.reshape(x, (4,5)) # must reshape to a size that matches the number of elements\n",
    "print(x)"
   ]
  },
  {
   "cell_type": "code",
   "execution_count": 38,
   "metadata": {},
   "outputs": [
    {
     "name": "stdout",
     "output_type": "stream",
     "text": [
      "[[ 0  1  2  3  4]\n",
      " [ 5  6  7  8  9]\n",
      " [10 11 12 13 14]\n",
      " [15 16 17 18 19]]\n"
     ]
    }
   ],
   "source": [
    "x = np.arange(20).reshape((4, 5))\n",
    "print(x)"
   ]
  },
  {
   "cell_type": "code",
   "execution_count": 39,
   "metadata": {},
   "outputs": [
    {
     "name": "stdout",
     "output_type": "stream",
     "text": [
      "[[ 0.03890013  0.10075402  0.12967757]\n",
      " [ 0.36946049  0.49378172  0.31209167]\n",
      " [ 0.1438231   0.84885865  0.81037039]]\n"
     ]
    }
   ],
   "source": [
    "# create array of given shape with random floats between 0 (inclusive) and 1 (exclusive)\n",
    "x = np.random.random((3, 3))\n",
    "print(x)"
   ]
  },
  {
   "cell_type": "code",
   "execution_count": 40,
   "metadata": {},
   "outputs": [
    {
     "name": "stdout",
     "output_type": "stream",
     "text": [
      "[[ 5 11]\n",
      " [ 8 10]\n",
      " [ 7 13]]\n"
     ]
    }
   ],
   "source": [
    "x = np.random.randint(4, 15, (3, 2))\n",
    "print(x)"
   ]
  },
  {
   "cell_type": "code",
   "execution_count": 41,
   "metadata": {},
   "outputs": [
    {
     "name": "stdout",
     "output_type": "stream",
     "text": [
      "[[-0.00971866  0.02328695  0.043031   ...,  0.0387662  -0.07398276\n",
      "  -0.0699223 ]\n",
      " [ 0.19471698  0.1876743   0.02097931 ...,  0.02936617  0.00545575\n",
      "  -0.03130145]\n",
      " [-0.12973655 -0.04333256 -0.06085671 ...,  0.13379239 -0.14498845\n",
      "  -0.06693247]\n",
      " ..., \n",
      " [ 0.0528511  -0.00928591  0.08531163 ...,  0.0526751   0.09882972\n",
      "  -0.06035401]\n",
      " [ 0.02113408  0.10904542 -0.09766419 ...,  0.06205765 -0.03810671\n",
      "   0.25739763]\n",
      " [-0.03230024 -0.2116374   0.04848389 ...,  0.07004614  0.05575754\n",
      "  -0.15819217]]\n"
     ]
    }
   ],
   "source": [
    "# create random arrays with numbers drawn from various probability distributions\n",
    "# random floats drawn from a *normal* (method name) distribution\n",
    "# mean = 0, standard deviation = 0.1\n",
    "x = np.random.normal(0, 0.1, size=(1000,1000))\n",
    "print(x)"
   ]
  },
  {
   "cell_type": "code",
   "execution_count": 44,
   "metadata": {},
   "outputs": [
    {
     "name": "stdout",
     "output_type": "stream",
     "text": [
      "0.000103146512259\n",
      "0.0998664769741\n",
      "0.477216978982\n",
      "-0.472506742047\n",
      "500206\n",
      "499794\n"
     ]
    }
   ],
   "source": [
    "print(x.mean())\n",
    "print(x.std())\n",
    "print(x.max())\n",
    "print(x.min())\n",
    "print((x > 0).sum())\n",
    "print((x < 0).sum())"
   ]
  },
  {
   "cell_type": "markdown",
   "metadata": {},
   "source": [
    "### Accessing, Deleting and Inserting Elements into ndarrays"
   ]
  },
  {
   "cell_type": "code",
   "execution_count": 45,
   "metadata": {},
   "outputs": [
    {
     "name": "stdout",
     "output_type": "stream",
     "text": [
      "1\n",
      "5\n"
     ]
    }
   ],
   "source": [
    "# access by index\n",
    "x = np.array([1, 2, 3, 4, 5])\n",
    "print(x[0])\n",
    "print(x[-1])"
   ]
  },
  {
   "cell_type": "code",
   "execution_count": 46,
   "metadata": {},
   "outputs": [
    {
     "name": "stdout",
     "output_type": "stream",
     "text": [
      "[ 1  2  3  4 20]\n"
     ]
    }
   ],
   "source": [
    "x[-1] = 20\n",
    "print(x)"
   ]
  },
  {
   "cell_type": "code",
   "execution_count": 48,
   "metadata": {},
   "outputs": [
    {
     "name": "stdout",
     "output_type": "stream",
     "text": [
      "[[1 2 3]\n",
      " [4 5 6]\n",
      " [7 8 9]]\n",
      "1\n",
      "5\n",
      "9\n"
     ]
    }
   ],
   "source": [
    "# multi-dimensional\n",
    "x = np.arange(1, 10).reshape((3, 3))\n",
    "print(x)\n",
    "print(x[0, 0])\n",
    "print(x[1, 1])\n",
    "print(x[2, 2])"
   ]
  },
  {
   "cell_type": "code",
   "execution_count": 49,
   "metadata": {},
   "outputs": [
    {
     "name": "stdout",
     "output_type": "stream",
     "text": [
      "[[20  2  3]\n",
      " [ 4  5  6]\n",
      " [ 7  8  9]]\n"
     ]
    }
   ],
   "source": [
    "x[0, 0] = 20\n",
    "print(x)"
   ]
  },
  {
   "cell_type": "code",
   "execution_count": 50,
   "metadata": {},
   "outputs": [
    {
     "name": "stdout",
     "output_type": "stream",
     "text": [
      "[1 2 3 4 5]\n",
      "[2 3 4]\n"
     ]
    }
   ],
   "source": [
    "# delete elements\n",
    "x = np.array([1, 2, 3, 4, 5])\n",
    "print(x)\n",
    "x = np.delete(x, [0, 4]) # delete first and 5th elements\n",
    "print(x)"
   ]
  },
  {
   "cell_type": "code",
   "execution_count": 52,
   "metadata": {},
   "outputs": [
    {
     "name": "stdout",
     "output_type": "stream",
     "text": [
      "[[1 2 3]\n",
      " [4 5 6]\n",
      " [7 8 9]]\n",
      "\n",
      " [[4 5 6]\n",
      " [7 8 9]]\n",
      "\n",
      " [[5]\n",
      " [8]]\n"
     ]
    }
   ],
   "source": [
    "# delete elements -> multi-dimensional\n",
    "x = np.arange(1, 10).reshape((3, 3))\n",
    "print(x)\n",
    "\n",
    "y = np.delete(x, 0, axis=0) # delete the first row; axis=0 -> row\n",
    "print('\\n', y)\n",
    "\n",
    "z = np.delete(y, [0, 2], axis=1) # delete the first and third columns; axis=1 -> column\n",
    "print('\\n', z)"
   ]
  },
  {
   "cell_type": "code",
   "execution_count": 57,
   "metadata": {},
   "outputs": [
    {
     "name": "stdout",
     "output_type": "stream",
     "text": [
      "[1 2 3 4 5]\n",
      "[1 2 3 4 5 6]\n",
      "[1 2 3 4 5 6 7 8]\n"
     ]
    }
   ],
   "source": [
    "# add values using append (array, list of elements to append, axis to append it on)\n",
    "x = np.arange(1, 6)\n",
    "print(x)\n",
    "\n",
    "x = np.append(x, 6)\n",
    "print(x)\n",
    "\n",
    "x = np.append(x, [7, 8])\n",
    "print(x)\n"
   ]
  },
  {
   "cell_type": "code",
   "execution_count": 68,
   "metadata": {},
   "outputs": [
    {
     "name": "stdout",
     "output_type": "stream",
     "text": [
      "[[1 2 3]\n",
      " [4 5 6]\n",
      " [7 8 9]]\n",
      "\n",
      " [[ 1  2  3]\n",
      " [ 4  5  6]\n",
      " [ 7  8  9]\n",
      " [10 11 12]]\n",
      "\n",
      " [[  1   2   3  97]\n",
      " [  4   5   6  98]\n",
      " [  7   8   9  99]\n",
      " [ 10  11  12 100]]\n"
     ]
    }
   ],
   "source": [
    "# add values on rank 2 array\n",
    "x = np.arange(1, 10).reshape((3, 3))\n",
    "print(x)\n",
    "\n",
    "# add a row\n",
    "x = np.append(x, [[10, 11, 12]], axis=0)\n",
    "print('\\n', x)\n",
    "\n",
    "# add a column\n",
    "x = np.append(x, [[97], [98], [99], [100]], axis=1)\n",
    "print('\\n', x)"
   ]
  },
  {
   "cell_type": "code",
   "execution_count": 69,
   "metadata": {},
   "outputs": [
    {
     "name": "stdout",
     "output_type": "stream",
     "text": [
      "[1 2 5 6 7]\n",
      "[1 2 3 4 5 6 7]\n"
     ]
    }
   ],
   "source": [
    "# insert into the middle of an array\n",
    "# insert function ... args = array, index, elements, axis\n",
    "x = np.array([1, 2, 5, 6, 7])\n",
    "print(x)\n",
    "\n",
    "x = np.insert(x, 2, [3, 4], axis=0)\n",
    "print(x)"
   ]
  },
  {
   "cell_type": "code",
   "execution_count": 73,
   "metadata": {},
   "outputs": [
    {
     "name": "stdout",
     "output_type": "stream",
     "text": [
      "[[1 2 3]\n",
      " [7 8 9]]\n",
      "\n",
      " [[1 2 3]\n",
      " [4 5 6]\n",
      " [7 8 9]]\n",
      "\n",
      " [[1 5 2 3]\n",
      " [4 5 5 6]\n",
      " [7 5 8 9]]\n"
     ]
    }
   ],
   "source": [
    "# insert into a rank 2 array\n",
    "x = np.array([[1, 2, 3], [7, 8, 9]])\n",
    "print(x)\n",
    "\n",
    "# insert row\n",
    "x = np.insert(x, 1, [4, 5, 6], axis=0)\n",
    "print('\\n', x)\n",
    "\n",
    "# insert column\n",
    "x = np.insert(x, 1, 5, axis=1)\n",
    "print('\\n', x)"
   ]
  },
  {
   "cell_type": "code",
   "execution_count": 76,
   "metadata": {},
   "outputs": [
    {
     "name": "stdout",
     "output_type": "stream",
     "text": [
      "[1 2]\n",
      "\n",
      " [[3 4]\n",
      " [5 6]]\n",
      "\n",
      " [[1 2]\n",
      " [3 4]\n",
      " [5 6]]\n",
      "\n",
      " [[3 4 1]\n",
      " [5 6 2]]\n"
     ]
    }
   ],
   "source": [
    "# stacking arrays on top of each other or side by side. the shape must match.\n",
    "x = np.array([1, 2])\n",
    "print(x)\n",
    "\n",
    "y = np.array([[3, 4], [5, 6]])\n",
    "print('\\n', y)\n",
    "\n",
    "x1 = np.vstack((x, y))\n",
    "print('\\n', x1)\n",
    "\n",
    "y1 = np.hstack((y, x.reshape(2, 1)))\n",
    "print('\\n', y1)"
   ]
  },
  {
   "cell_type": "markdown",
   "metadata": {},
   "source": [
    "### Slicing"
   ]
  },
  {
   "cell_type": "code",
   "execution_count": 77,
   "metadata": {},
   "outputs": [
    {
     "name": "stdout",
     "output_type": "stream",
     "text": [
      "[[ 1  2  3  4  5]\n",
      " [ 6  7  8  9 10]\n",
      " [11 12 13 14 15]\n",
      " [16 17 18 19 20]]\n"
     ]
    }
   ],
   "source": [
    "x = np.arange(1, 21).reshape((4, 5))\n",
    "print(x)"
   ]
  },
  {
   "cell_type": "code",
   "execution_count": 81,
   "metadata": {},
   "outputs": [
    {
     "name": "stdout",
     "output_type": "stream",
     "text": [
      "[[ 8  9 10]\n",
      " [13 14 15]\n",
      " [18 19 20]]\n",
      "\n",
      " [[ 8  9 10]\n",
      " [13 14 15]\n",
      " [18 19 20]]\n",
      "\n",
      " [[ 9 10]\n",
      " [14 15]]\n"
     ]
    }
   ],
   "source": [
    "# slicing: first (start) index is included, second (end) index is excluded\n",
    "# part 1 below is the indices to grab from rows, part 2 is the indices to grab from columns\n",
    "y = x[1:4, 2:5]\n",
    "print(y)\n",
    "\n",
    "y = x[1:, 2:]\n",
    "print('\\n', y)\n",
    "\n",
    "y = x[1:3, 3:5]\n",
    "print('\\n', y)"
   ]
  },
  {
   "cell_type": "code",
   "execution_count": 84,
   "metadata": {},
   "outputs": [
    {
     "name": "stdout",
     "output_type": "stream",
     "text": [
      "[ 3  8 13 18]\n",
      "\n",
      " [[ 3]\n",
      " [ 8]\n",
      " [13]\n",
      " [18]]\n"
     ]
    }
   ],
   "source": [
    "# grab a column\n",
    "y = x[:, 2]\n",
    "print(y)\n",
    "\n",
    "# make it a column, not a row\n",
    "y = x[:, 2:3] # this slicing method\n",
    "print('\\n', y)"
   ]
  },
  {
   "cell_type": "code",
   "execution_count": 85,
   "metadata": {},
   "outputs": [
    {
     "name": "stdout",
     "output_type": "stream",
     "text": [
      "[[ 1  2  3  4  5]\n",
      " [ 6  7  8  9 10]\n",
      " [11 12 13 14 15]\n",
      " [16 17 18 19 20]]\n"
     ]
    }
   ],
   "source": [
    "# slicing creates a VIEW of the original array. changing elements in y would also change x.\n",
    "print(x)"
   ]
  },
  {
   "cell_type": "code",
   "execution_count": 86,
   "metadata": {},
   "outputs": [
    {
     "name": "stdout",
     "output_type": "stream",
     "text": [
      "[[ 8  9 10]\n",
      " [13 14 15]\n",
      " [18 19 20]]\n"
     ]
    }
   ],
   "source": [
    "z = x[1:, 2:]\n",
    "print(z)"
   ]
  },
  {
   "cell_type": "code",
   "execution_count": 88,
   "metadata": {},
   "outputs": [
    {
     "name": "stdout",
     "output_type": "stream",
     "text": [
      "[[  8   9  10]\n",
      " [ 13  14  15]\n",
      " [ 18  19 555]]\n"
     ]
    }
   ],
   "source": [
    "z[2, 2] = 555\n",
    "print(z)"
   ]
  },
  {
   "cell_type": "code",
   "execution_count": 89,
   "metadata": {},
   "outputs": [
    {
     "name": "stdout",
     "output_type": "stream",
     "text": [
      "[[  1   2   3   4   5]\n",
      " [  6   7   8   9  10]\n",
      " [ 11  12  13  14  15]\n",
      " [ 16  17  18  19 555]]\n"
     ]
    }
   ],
   "source": [
    "# NOTICE, x has also changed\n",
    "print(x)"
   ]
  },
  {
   "cell_type": "code",
   "execution_count": 95,
   "metadata": {},
   "outputs": [
    {
     "name": "stdout",
     "output_type": "stream",
     "text": [
      "[[ 0  1  2  3  4]\n",
      " [ 5  6  7  8  9]\n",
      " [10 11 12 13 14]\n",
      " [15 16 17 18 19]]\n",
      "\n",
      " [[ 7  8  9]\n",
      " [12 13 14]\n",
      " [17 18 19]]\n",
      "\n",
      " [[  7   8   9]\n",
      " [ 12  13  14]\n",
      " [ 17  18 555]]\n",
      "\n",
      " [[ 0  1  2  3  4]\n",
      " [ 5  6  7  8  9]\n",
      " [10 11 12 13 14]\n",
      " [15 16 17 18 19]]\n"
     ]
    }
   ],
   "source": [
    "# to create a copy, use the np.copy function\n",
    "x = np.arange(0, 20).reshape((4, 5))\n",
    "print(x)\n",
    "\n",
    "z = np.copy(x[1:, 2:])\n",
    "print('\\n', z)\n",
    "\n",
    "z[2, 2] = 555\n",
    "print('\\n', z)\n",
    "\n",
    "# NOTICE, x has NOT changed\n",
    "print('\\n', x)"
   ]
  },
  {
   "cell_type": "code",
   "execution_count": 98,
   "metadata": {},
   "outputs": [
    {
     "name": "stdout",
     "output_type": "stream",
     "text": [
      "[[ 0  1  2  3  4]\n",
      " [ 5  6  7  8  9]\n",
      " [10 11 12 13 14]\n",
      " [15 16 17 18 19]]\n",
      "\n",
      " [1 3]\n",
      "\n",
      " [[ 5  6  7  8  9]\n",
      " [15 16 17 18 19]]\n",
      "\n",
      " [[ 1  3]\n",
      " [ 6  8]\n",
      " [11 13]\n",
      " [16 18]]\n"
     ]
    }
   ],
   "source": [
    "x = np.arange(0, 20).reshape((4, 5))\n",
    "print(x)\n",
    "\n",
    "indices = np.array([1, 3])\n",
    "print('\\n', indices)\n",
    "\n",
    "# get the second and fourth rows (indexes 1 and 3 for rows)\n",
    "y = x[indices, :]\n",
    "print('\\n', y)\n",
    "\n",
    "# get the second and fourth columns\n",
    "z = x[:, indices]\n",
    "print('\\n', z)"
   ]
  },
  {
   "cell_type": "code",
   "execution_count": 100,
   "metadata": {},
   "outputs": [
    {
     "name": "stdout",
     "output_type": "stream",
     "text": [
      "[ 0  6 12 18]\n",
      "[ 1  7 13 19]\n",
      "[ 5 11 17]\n"
     ]
    }
   ],
   "source": [
    "print(np.diag(x))\n",
    "print(np.diag(x, k=1)) # get elements 1 element directly above the diag\n",
    "print(np.diag(x, k=-1)) # get elements 1 element directly below the diag\n"
   ]
  },
  {
   "cell_type": "code",
   "execution_count": 101,
   "metadata": {},
   "outputs": [
    {
     "name": "stdout",
     "output_type": "stream",
     "text": [
      "[1 2 3 5 8]\n"
     ]
    }
   ],
   "source": [
    "# get unique values\n",
    "x = np.array([[1, 2, 3], [5, 2, 8], [1, 2, 3]])\n",
    "print(np.unique(x))"
   ]
  },
  {
   "cell_type": "markdown",
   "metadata": {},
   "source": [
    "### Boolean indexing, set operations and sorting"
   ]
  },
  {
   "cell_type": "code",
   "execution_count": 102,
   "metadata": {},
   "outputs": [
    {
     "name": "stdout",
     "output_type": "stream",
     "text": [
      "[[ 0  1  2  3  4]\n",
      " [ 5  6  7  8  9]\n",
      " [10 11 12 13 14]\n",
      " [15 16 17 18 19]\n",
      " [20 21 22 23 24]]\n"
     ]
    }
   ],
   "source": [
    "x = np.arange(25).reshape((5, 5))\n",
    "print(x)"
   ]
  },
  {
   "cell_type": "code",
   "execution_count": 108,
   "metadata": {},
   "outputs": [
    {
     "name": "stdout",
     "output_type": "stream",
     "text": [
      "[17 18 19 20 21 22 23 24]\n",
      "[ 0  1  2  3  4  5  6  7 -1 -1 -1 -1 -1 -1]\n",
      "[]\n",
      "\n",
      " [[ 0  1  2  3  4]\n",
      " [ 5  6  7  8  9]\n",
      " [10 -1 -1 -1 -1]\n",
      " [-1 -1 17 18 19]\n",
      " [20 21 22 23 24]]\n"
     ]
    }
   ],
   "source": [
    "# use boolean expression to grab elements\n",
    "print(x[x > 10])\n",
    "print(x[x <= 7])\n",
    "print(x[(x > 10) & (x < 17)])\n",
    "\n",
    "# set those indices to a value\n",
    "x[(x > 10) & (x < 17)] = -1\n",
    "print('\\n', x)"
   ]
  },
  {
   "cell_type": "code",
   "execution_count": 113,
   "metadata": {},
   "outputs": [
    {
     "name": "stdout",
     "output_type": "stream",
     "text": [
      "[2 4]\n",
      "[1 3 5]\n",
      "[6 7 8]\n",
      "[1 2 3 4 5 6 7 8]\n"
     ]
    }
   ],
   "source": [
    "# intersection, difference, union\n",
    "x = np.array([1, 2, 3, 4, 5])\n",
    "y = np.array([6, 7, 2, 8, 4])\n",
    "\n",
    "print(np.intersect1d(x, y))\n",
    "print(np.setdiff1d(x, y))\n",
    "print(np.setdiff1d(y, x))\n",
    "print(np.union1d(x, y))"
   ]
  },
  {
   "cell_type": "markdown",
   "metadata": {},
   "source": [
    "#### Sorting"
   ]
  },
  {
   "cell_type": "code",
   "execution_count": 118,
   "metadata": {},
   "outputs": [
    {
     "name": "stdout",
     "output_type": "stream",
     "text": [
      "[9 8 3 6 6 2 8 8 8 6]\n",
      "\n",
      "\n",
      "[2 3 6 6 6 8 8 8 8 9]\n",
      "[9 8 3 6 6 2 8 8 8 6]\n",
      "\n",
      "\n",
      "[2 3 6 6 6 8 8 8 8 9]\n"
     ]
    }
   ],
   "source": [
    "# sorting\n",
    "x = np.random.randint(1, 11, size=(10,))\n",
    "print(x)\n",
    "\n",
    "# sort as function; sorts the array out of place, not changing the original array\n",
    "print('\\n')\n",
    "print(np.sort(x))\n",
    "print(x)\n",
    "\n",
    "# sort as method; sorts the original array in place, changing it\n",
    "print('\\n')\n",
    "x.sort()\n",
    "print(x)"
   ]
  },
  {
   "cell_type": "code",
   "execution_count": 120,
   "metadata": {},
   "outputs": [
    {
     "name": "stdout",
     "output_type": "stream",
     "text": [
      "[[ 8  3  7  2 10]\n",
      " [ 6  7  8  1  8]\n",
      " [ 1  9  6  6  5]\n",
      " [ 2  3  3  5  6]\n",
      " [ 6 10  5  6  5]]\n",
      "[[ 1  3  3  1  5]\n",
      " [ 2  3  5  2  5]\n",
      " [ 6  7  6  5  6]\n",
      " [ 6  9  7  6  8]\n",
      " [ 8 10  8  6 10]]\n",
      "[[ 2  3  7  8 10]\n",
      " [ 1  6  7  8  8]\n",
      " [ 1  5  6  6  9]\n",
      " [ 2  3  3  5  6]\n",
      " [ 5  5  6  6 10]]\n"
     ]
    }
   ],
   "source": [
    "x = np.random.randint(1, 11, size=(5, 5))\n",
    "print(x)\n",
    "\n",
    "# sort by row\n",
    "print(np.sort(x, axis=0))\n",
    "\n",
    "# sort by column\n",
    "print(np.sort(x, axis=1))"
   ]
  },
  {
   "cell_type": "markdown",
   "metadata": {},
   "source": [
    "### Arithmetic operations and broadcasting"
   ]
  },
  {
   "cell_type": "code",
   "execution_count": 123,
   "metadata": {},
   "outputs": [
    {
     "name": "stdout",
     "output_type": "stream",
     "text": [
      "[ 6  8 10 12]\n",
      "[ 6  8 10 12]\n",
      "[-4 -4 -4 -4]\n",
      "[-4 -4 -4 -4]\n",
      "[ 5 12 21 32]\n",
      "[ 5 12 21 32]\n",
      "[ 0.2         0.33333333  0.42857143  0.5       ]\n",
      "[ 0.2         0.33333333  0.42857143  0.5       ]\n"
     ]
    }
   ],
   "source": [
    "x = np.array([1, 2, 3, 4])\n",
    "y = np.array([5, 6, 7, 8])\n",
    "\n",
    "# add\n",
    "print(x + y)\n",
    "print(np.add(x, y)) # function approach usually has options we can tweak\n",
    "\n",
    "# subtract\n",
    "print(x - y)\n",
    "print(np.subtract(x, y))\n",
    "\n",
    "# multiply\n",
    "print(y * x)\n",
    "print(np.multiply(x, y))\n",
    "\n",
    "# divide\n",
    "print(x / y)\n",
    "print(np.divide(x, y))\n",
    "\n",
    "# in order to do this, numpy sometimes uses broadcasting: how numpy handles element-wise operations with arrays\n",
    "# of different shapes. these arrays must be of the same shape, or broadcastable."
   ]
  },
  {
   "cell_type": "code",
   "execution_count": 126,
   "metadata": {},
   "outputs": [
    {
     "name": "stdout",
     "output_type": "stream",
     "text": [
      "[[1 2]\n",
      " [3 4]]\n",
      "[[5 6]\n",
      " [7 8]]\n",
      "[[ 6  8]\n",
      " [10 12]]\n",
      "[[ 6  8]\n",
      " [10 12]]\n"
     ]
    }
   ],
   "source": [
    "# element-wise arithmetic on rank 2 arrays\n",
    "x = np.array([1, 2, 3, 4]).reshape((2, 2))\n",
    "y = np.array([5, 6, 7, 8]).reshape((2, 2))\n",
    "\n",
    "print(x)\n",
    "print(y)\n",
    "print(x + y)\n",
    "print(np.add(x, y))"
   ]
  },
  {
   "cell_type": "code",
   "execution_count": 127,
   "metadata": {},
   "outputs": [
    {
     "name": "stdout",
     "output_type": "stream",
     "text": [
      "[[ 1.          1.41421356]\n",
      " [ 1.73205081  2.        ]]\n",
      "[[  2.71828183   7.3890561 ]\n",
      " [ 20.08553692  54.59815003]]\n",
      "[[ 1  4]\n",
      " [ 9 16]]\n"
     ]
    }
   ],
   "source": [
    "# other mathematical functions\n",
    "print(np.sqrt(x))\n",
    "print(np.exp(x))\n",
    "print(np.power(x, 2))"
   ]
  },
  {
   "cell_type": "code",
   "execution_count": 134,
   "metadata": {},
   "outputs": [
    {
     "name": "stdout",
     "output_type": "stream",
     "text": [
      "[[1 2]\n",
      " [3 4]]\n",
      "average of all:  2.5\n",
      "average of columns:  [ 2.  3.]\n",
      "average of rows:  [ 1.5  3.5]\n",
      "standard deviation:  1.11803398875\n",
      "median:  2.5\n",
      "min:  4\n",
      "max:  1\n"
     ]
    }
   ],
   "source": [
    "print(x)\n",
    "print('average of all: ', x.mean())\n",
    "print('average of columns: ', x.mean(axis=0))\n",
    "print('average of rows: ', x.mean(axis=1))\n",
    "print('standard deviation: ', x.std())\n",
    "print('median: ', np.median(x))\n",
    "print('min: ', x.max())\n",
    "print('max: ', x.min())"
   ]
  },
  {
   "cell_type": "code",
   "execution_count": 135,
   "metadata": {},
   "outputs": [
    {
     "name": "stdout",
     "output_type": "stream",
     "text": [
      "[[4 5]\n",
      " [6 7]]\n"
     ]
    }
   ],
   "source": [
    "# broadcasting \"3\" to each element, allowing us to add 3 to each in one line of code\n",
    "print(x + 3)"
   ]
  },
  {
   "cell_type": "code",
   "execution_count": 138,
   "metadata": {},
   "outputs": [
    {
     "name": "stdout",
     "output_type": "stream",
     "text": [
      "[[3 2 7]\n",
      " [9 6 8]\n",
      " [1 4 5]]\n"
     ]
    },
    {
     "data": {
      "text/plain": [
       "array([1, 2, 5])"
      ]
     },
     "execution_count": 138,
     "metadata": {},
     "output_type": "execute_result"
    }
   ],
   "source": [
    "# print min of each column\n",
    "# multi-dimensional\n",
    "x = np.array([3, 2, 7, 9, 6, 8, 1, 4, 5]).reshape((3, 3))\n",
    "print(x)\n",
    "\n",
    "# print min of each col\n",
    "x.min(axis=0)"
   ]
  },
  {
   "cell_type": "code",
   "execution_count": null,
   "metadata": {},
   "outputs": [],
   "source": []
  }
 ],
 "metadata": {
  "kernelspec": {
   "display_name": "Python [conda env:py3-gtest]",
   "language": "python",
   "name": "conda-env-py3-gtest-py"
  },
  "language_info": {
   "codemirror_mode": {
    "name": "ipython",
    "version": 3
   },
   "file_extension": ".py",
   "mimetype": "text/x-python",
   "name": "python",
   "nbconvert_exporter": "python",
   "pygments_lexer": "ipython3",
   "version": "3.6.5"
  }
 },
 "nbformat": 4,
 "nbformat_minor": 2
}
