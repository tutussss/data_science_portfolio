{
 "cells": [
  {
   "cell_type": "code",
   "execution_count": 29,
   "metadata": {},
   "outputs": [
    {
     "data": {
      "text/plain": [
       "224"
      ]
     },
     "execution_count": 29,
     "metadata": {},
     "output_type": "execute_result"
    }
   ],
   "source": [
    "# We import pandas into Python\n",
    "import numpy as np\n",
    "\n",
    "filename = \"vgg_structure2.csv\"\n",
    "vgg_structure = np.genfromtxt(filename, delimiter=',', skip_header=1).astype(int)\n",
    "vgg_structure[1, 2]"
   ]
  },
  {
   "cell_type": "markdown",
   "metadata": {},
   "source": [
    "Weight Reuse  \n",
    "WR1 = [m, c, x, y]  \n",
    "WR2 = [c, m, x, y]  \n",
    "\n",
    "WR1  [m, c, x, y]  \n",
    "I-GB = C*X*Y  \n",
    "W-GB = -  \n",
    "P-GB = tm*X*Y  \n",
    "\n",
    "WR2 [c, m, x, y]  \n",
    "I-GB = tc*X*Y  \n",
    "W-GB = -  \n",
    "P-GB = M*C*Y  \n",
    "\n",
    "Set MAC array size:  \n",
    "tm = 4  \n",
    "tx = 4  \n",
    "tc = 4, tr = 3, ts = 1  "
   ]
  },
  {
   "cell_type": "code",
   "execution_count": 31,
   "metadata": {},
   "outputs": [],
   "source": [
    "tm = 4\n",
    "tx = 4\n",
    "tc = 4\n",
    "tr = 3\n",
    "ts = 1"
   ]
  },
  {
   "cell_type": "code",
   "execution_count": 30,
   "metadata": {},
   "outputs": [
    {
     "data": {
      "text/plain": [
       "array([  7,   1,  56,  56, 256, 256,   3,   3,  56,  56])"
      ]
     },
     "execution_count": 30,
     "metadata": {},
     "output_type": "execute_result"
    }
   ],
   "source": [
    "conv_layer = vgg_structure[6]\n",
    "conv_layer"
   ]
  },
  {
   "cell_type": "code",
   "execution_count": null,
   "metadata": {},
   "outputs": [],
   "source": []
  }
 ],
 "metadata": {
  "kernelspec": {
   "display_name": "Python 3",
   "language": "python",
   "name": "python3"
  },
  "language_info": {
   "codemirror_mode": {
    "name": "ipython",
    "version": 3
   },
   "file_extension": ".py",
   "mimetype": "text/x-python",
   "name": "python",
   "nbconvert_exporter": "python",
   "pygments_lexer": "ipython3",
   "version": "3.6.4"
  }
 },
 "nbformat": 4,
 "nbformat_minor": 2
}
