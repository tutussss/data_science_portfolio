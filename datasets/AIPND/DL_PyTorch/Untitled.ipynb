{
 "cells": [
  {
   "cell_type": "code",
   "execution_count": 1,
   "metadata": {},
   "outputs": [
    {
     "ename": "SyntaxError",
     "evalue": "invalid syntax (<ipython-input-1-2f876fec95ea>, line 1)",
     "output_type": "error",
     "traceback": [
      "\u001b[1;36m  File \u001b[1;32m\"<ipython-input-1-2f876fec95ea>\"\u001b[1;36m, line \u001b[1;32m1\u001b[0m\n\u001b[1;33m    Initial:\u001b[0m\n\u001b[1;37m            ^\u001b[0m\n\u001b[1;31mSyntaxError\u001b[0m\u001b[1;31m:\u001b[0m invalid syntax\n"
     ]
    }
   ],
   "source": [
    "Initial:\n",
    "    I-GB = UTe∙UF∙Tc\n",
    "    W-GB = Tm∙Tc∙RS\n",
    "    P-GB = Tm∙Te∙F\n",
    "\n",
    "find_P-GB_size(dim):\n",
    "    # Calculate P-GB size\n",
    "    if dim == [C, dim3, dim2, dim1]:\n",
    "        P-GB = t_dim3∙t_dim2∙t_dim1\n",
    "    elif dim == [dim4, C, dim2, dim1]:\n",
    "        P-GB = T_dim4∙t_dim2∙t_dim1\n",
    "    elif dim == [dim4, dim3, C, dim1]:\n",
    "        P-GB = T_dim4∙T_dim3∙t_dim1\n",
    "    elif dim == [dim4, dim3, dim2, C]:\n",
    "        P-GB = T_dim4∙T_dim3∙T_dim2\n",
    "        \n",
    "find_I/W-GB_size(dim):\n",
    "    # Calculate I/W-GB size\n",
    "    if dim[1] == e:\n",
    "        Te = te, Tc = C\n",
    "        I-GB = Ute∙UF∙C\n",
    "        W-GB = Tm∙C∙RS\n",
    "    elif dim[1] == m:\n",
    "        Tm = tm, Tc = C\n",
    "        I-GB = UTe∙UF∙C\n",
    "        W-GB = tm∙C∙RS\n",
    "    elif dim[1] == c:\n",
    "        Tc = tc\n",
    "        I-GB = UTe∙UF∙tc\n",
    "        W-GB = Tm∙tc∙RS\n",
    "    elif dim[1] == f:\n",
    "        reverse case of dim[1]=e\n",
    "\n",
    "\n",
    "    \n",
    "    \n",
    "    \n",
    "\n",
    "\n",
    "\n",
    "\n",
    "\n",
    "\n",
    "\n"
   ]
  },
  {
   "cell_type": "code",
   "execution_count": null,
   "metadata": {},
   "outputs": [],
   "source": []
  }
 ],
 "metadata": {
  "kernelspec": {
   "display_name": "Python 3",
   "language": "python",
   "name": "python3"
  },
  "language_info": {
   "codemirror_mode": {
    "name": "ipython",
    "version": 3
   },
   "file_extension": ".py",
   "mimetype": "text/x-python",
   "name": "python",
   "nbconvert_exporter": "python",
   "pygments_lexer": "ipython3",
   "version": "3.6.4"
  }
 },
 "nbformat": 4,
 "nbformat_minor": 2
}
