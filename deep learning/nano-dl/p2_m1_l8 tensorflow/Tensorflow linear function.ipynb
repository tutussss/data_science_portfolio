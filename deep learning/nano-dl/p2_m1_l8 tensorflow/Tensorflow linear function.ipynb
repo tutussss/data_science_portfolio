{
 "cells": [
  {
   "cell_type": "code",
   "execution_count": 3,
   "metadata": {},
   "outputs": [],
   "source": [
    "import tensorflow as tf"
   ]
  },
  {
   "attachments": {
    "image.png": {
     "image/png": "[encoded data removed]"
    }
   },
   "cell_type": "markdown",
   "metadata": {},
   "source": [
    "![image.png](attachment:image.png)"
   ]
  },
  {
   "cell_type": "markdown",
   "metadata": {},
   "source": [
    "The goal of training a neural network is to modify weights and biases to best predict the labels. In order to use weights and bias, you'll need a Tensor that can be modified. <br><br>\n",
    "This leaves out tf.placeholder() and tf.constant(), since those Tensors can't be modified. \n",
    "<br><br>This is where tf.Variable class comes in."
   ]
  },
  {
   "cell_type": "code",
   "execution_count": 4,
   "metadata": {},
   "outputs": [],
   "source": [
    "x=tf.Variable(5)"
   ]
  },
  {
   "cell_type": "code",
   "execution_count": 5,
   "metadata": {},
   "outputs": [
    {
     "data": {
      "text/plain": [
       "<tf.Variable 'Variable:0' shape=() dtype=int32, numpy=5>"
      ]
     },
     "execution_count": 5,
     "metadata": {},
     "output_type": "execute_result"
    }
   ],
   "source": [
    "x"
   ]
  },
  {
   "cell_type": "code",
   "execution_count": 6,
   "metadata": {},
   "outputs": [],
   "source": [
    "tf.random.truncated_normal?"
   ]
  },
  {
   "cell_type": "code",
   "execution_count": 7,
   "metadata": {},
   "outputs": [],
   "source": [
    "n_features = 120\n",
    "n_labels=5\n",
    "weights = tf.Variable(tf.random.truncated_normal((n_features, n_labels)))"
   ]
  },
  {
   "cell_type": "code",
   "execution_count": 10,
   "metadata": {
    "scrolled": true
   },
   "outputs": [
    {
     "data": {
      "text/plain": [
       "<bound method BaseResourceVariable.value of <tf.Variable 'Variable:0' shape=(120, 5) dtype=float32, numpy=\n",
       "array([[ 9.86285150e-01,  8.60561192e-01, -9.57266569e-01,\n",
       "        -1.38197219e+00,  1.09747255e+00],\n",
       "       [-4.13590342e-01, -3.36140059e-02,  2.05339655e-01,\n",
       "         9.27337334e-02, -1.21661019e+00],\n",
       "       [ 1.11784673e+00,  6.18188560e-01,  3.28054488e-01,\n",
       "         6.03612542e-01, -9.79663253e-01],\n",
       "       [-9.59100068e-01, -5.22192299e-01,  1.80626428e+00,\n",
       "        -1.58779919e+00, -2.55096108e-01],\n",
       "       [ 1.77804029e+00, -1.53554952e+00,  1.11100543e+00,\n",
       "         1.19831264e+00, -6.52435899e-01],\n",
       "       [ 5.04524112e-01, -9.95511591e-01, -1.28542817e+00,\n",
       "         1.97136378e+00, -1.07448304e+00],\n",
       "       [-1.77141070e-01, -4.53953356e-01, -8.59808981e-01,\n",
       "         1.73005946e-02,  6.86106458e-02],\n",
       "       [-2.01755837e-01, -1.71071434e+00, -1.27198017e+00,\n",
       "         1.16673756e+00,  4.82131779e-01],\n",
       "       [ 5.31812966e-01,  8.53288770e-01,  1.35793316e+00,\n",
       "        -2.37217933e-01,  1.21577573e+00],\n",
       "       [ 2.67246574e-01,  3.04045707e-01, -1.39428747e+00,\n",
       "        -1.43368244e+00,  1.07704127e+00],\n",
       "       [ 9.20529962e-01, -1.17774582e+00, -1.73496866e+00,\n",
       "         6.92298353e-01,  5.10492086e-01],\n",
       "       [ 1.26220322e+00, -8.47396255e-02,  1.20279276e+00,\n",
       "         1.08808446e+00, -7.31500685e-01],\n",
       "       [ 7.18182206e-01,  1.77757156e+00, -1.76123679e-01,\n",
       "        -3.59690487e-01, -3.25146914e-01],\n",
       "       [ 1.57316566e+00,  1.10118949e+00,  1.44780004e+00,\n",
       "         6.28038570e-02, -1.71235204e-01],\n",
       "       [-2.34282613e-01,  1.26586986e+00,  7.47475743e-01,\n",
       "         1.56196404e+00,  3.87386978e-01],\n",
       "       [-6.10819161e-01,  5.41462541e-01, -6.38995588e-01,\n",
       "         4.45970267e-01,  2.32292280e-01],\n",
       "       [-1.86730817e-01, -3.90239179e-01,  3.13386589e-01,\n",
       "        -5.53276122e-01,  3.20351511e-01],\n",
       "       [-1.30418038e+00,  1.49939165e-01, -1.20769131e+00,\n",
       "        -4.44127887e-01,  7.93695271e-01],\n",
       "       [ 2.69192755e-01,  6.27818927e-02,  3.58455867e-01,\n",
       "        -1.72198061e-02,  6.56744301e-01],\n",
       "       [-5.26571333e-01, -1.35937107e+00, -9.96586561e-01,\n",
       "         3.43166701e-02,  1.09023249e+00],\n",
       "       [-6.78933084e-01, -3.33665282e-01, -1.09807491e+00,\n",
       "         4.42191452e-01, -6.83772802e-01],\n",
       "       [ 3.91789705e-01,  1.06400132e+00,  9.78708327e-01,\n",
       "        -1.91594791e+00, -1.46117258e+00],\n",
       "       [-1.27388895e+00,  8.29877794e-01, -7.04816759e-01,\n",
       "        -4.06137519e-02, -7.77676880e-01],\n",
       "       [ 7.83938542e-02,  1.54164374e+00, -1.21093321e+00,\n",
       "        -8.93960446e-02,  5.23785114e-01],\n",
       "       [ 1.19587131e-01,  1.78035271e+00,  1.57841682e+00,\n",
       "         3.24511766e-01,  2.39834636e-01],\n",
       "       [ 1.92150593e+00, -1.40278593e-01, -6.49656594e-01,\n",
       "        -2.57671356e-01, -1.71100485e+00],\n",
       "       [-1.27475214e+00,  8.30931127e-01,  3.16433430e-01,\n",
       "         1.12273061e+00, -6.73112631e-01],\n",
       "       [-1.23335585e-01, -6.11447841e-02,  7.07407057e-01,\n",
       "         7.92558134e-01, -9.86048162e-01],\n",
       "       [-9.92348611e-01, -1.77013946e+00, -1.11983299e+00,\n",
       "         8.25835586e-01,  5.06973505e-01],\n",
       "       [ 1.24203336e+00,  5.56338489e-01, -4.93009053e-02,\n",
       "        -1.90589082e+00,  2.64282286e-01],\n",
       "       [-7.38051951e-01,  1.17254519e+00, -4.93122876e-01,\n",
       "        -1.02375662e+00, -1.63471103e+00],\n",
       "       [ 1.70213401e-01, -4.67338741e-01,  7.47800991e-02,\n",
       "         6.63839817e-01, -4.73464340e-01],\n",
       "       [ 2.02385485e-01,  1.48774409e+00,  1.51176608e+00,\n",
       "        -1.12637079e+00,  6.56931579e-01],\n",
       "       [-1.05679400e-01, -6.31901845e-02,  1.84202671e+00,\n",
       "         4.36251938e-01,  4.73193258e-01],\n",
       "       [-2.49821305e-01, -1.77081847e+00,  1.01762509e+00,\n",
       "         7.61498153e-01, -8.21245909e-02],\n",
       "       [ 1.14108407e+00,  2.94644266e-01,  1.02601504e+00,\n",
       "         6.21122718e-01, -3.56119305e-01],\n",
       "       [-8.16209972e-01, -6.23414457e-01, -1.56900489e+00,\n",
       "         1.50243387e-01,  6.37246311e-01],\n",
       "       [ 3.57869297e-01, -1.16080415e+00,  1.16398883e+00,\n",
       "         3.36208969e-01,  1.09547131e-01],\n",
       "       [ 6.96666062e-01, -6.14481330e-01,  8.85054052e-01,\n",
       "        -1.05575299e+00, -4.58053797e-01],\n",
       "       [ 4.78734583e-01, -5.48742473e-01, -8.71377170e-01,\n",
       "         8.23701501e-01, -1.42534328e+00],\n",
       "       [-3.27158570e-01,  2.02875584e-01, -9.81833413e-02,\n",
       "         1.53084254e+00,  1.15026510e+00],\n",
       "       [-4.74282593e-01,  8.25282093e-03, -8.65634024e-01,\n",
       "         4.56085056e-01,  2.75961578e-01],\n",
       "       [ 6.22987926e-01,  3.91805410e-01,  2.79624313e-01,\n",
       "         8.47711563e-01, -5.33895493e-01],\n",
       "       [-6.20376945e-01, -2.31698558e-01, -1.05008531e+00,\n",
       "        -1.45067441e+00,  1.32767045e+00],\n",
       "       [-1.35029882e-01,  1.98704243e+00, -4.47706610e-01,\n",
       "         7.71344662e-01, -8.67454231e-01],\n",
       "       [ 1.62907124e+00, -5.92666507e-01,  5.31280994e-01,\n",
       "         1.13771462e+00, -9.65568542e-01],\n",
       "       [ 3.24147582e-01, -8.46968591e-01,  1.09380937e+00,\n",
       "         5.75579464e-01, -7.68751323e-01],\n",
       "       [ 5.49373627e-01, -1.58048797e+00,  2.45666981e-01,\n",
       "        -3.31747532e-01,  4.95929837e-01],\n",
       "       [-4.22679275e-01, -1.12498546e+00, -2.49724180e-01,\n",
       "         4.60186541e-01, -4.86310482e-01],\n",
       "       [-3.18672895e-01, -4.58615720e-01,  1.08203459e+00,\n",
       "        -3.92842710e-01, -1.32740870e-01],\n",
       "       [ 1.02996491e-01, -1.62621927e+00,  3.01954865e-01,\n",
       "        -1.55757415e+00, -8.14862430e-01],\n",
       "       [ 1.24743152e+00,  2.25795552e-01, -7.45145500e-01,\n",
       "         4.81361151e-01, -3.59595418e-01],\n",
       "       [-1.25455463e+00, -1.39366233e+00,  6.79998636e-01,\n",
       "         4.55523968e-01,  2.00804144e-01],\n",
       "       [-6.11340739e-02, -1.95361838e-01, -8.03860724e-01,\n",
       "        -5.46768606e-01,  2.28125989e-01],\n",
       "       [ 4.04915005e-01, -1.20018625e+00,  9.56544101e-01,\n",
       "         5.81654847e-01, -6.72779977e-01],\n",
       "       [-3.94971669e-01,  6.17325962e-01,  6.47711456e-01,\n",
       "         8.90751630e-02, -3.25926006e-01],\n",
       "       [-5.97448826e-01, -1.40619397e-01, -1.99945855e+00,\n",
       "         1.83451462e+00,  8.48688483e-02],\n",
       "       [ 6.74892128e-01, -6.35302007e-01,  7.77629077e-01,\n",
       "         1.59393176e-01, -5.34305513e-01],\n",
       "       [-2.95215458e-01,  6.86915576e-01, -5.61469197e-01,\n",
       "        -1.41517377e+00, -1.15186822e+00],\n",
       "       [-2.82866769e-02,  2.84784466e-01, -1.35103357e+00,\n",
       "        -6.72392845e-01, -9.91132334e-02],\n",
       "       [-1.63805580e+00, -6.09313726e-01, -2.29498327e-01,\n",
       "        -1.13906634e+00, -6.36726558e-01],\n",
       "       [ 3.76961492e-02,  1.31929517e+00,  5.89426339e-01,\n",
       "         2.50991173e-02,  1.24221349e+00],\n",
       "       [ 4.99784827e-01, -1.20731980e-01, -1.52552649e-01,\n",
       "         1.03793657e+00, -5.66399157e-01],\n",
       "       [-3.84613685e-02, -1.94919980e+00,  5.09149849e-01,\n",
       "         1.98244721e-01, -1.95194054e-02],\n",
       "       [-2.31389269e-01,  2.30722204e-01, -1.47428322e+00,\n",
       "        -5.00719547e-01,  1.60294664e+00],\n",
       "       [-8.80877793e-01,  1.92860210e+00, -1.20596516e+00,\n",
       "        -3.80855173e-01, -3.75392318e-01],\n",
       "       [ 2.78687328e-01, -8.69598210e-01,  1.26241434e+00,\n",
       "         8.16156507e-01, -7.99484968e-01],\n",
       "       [-6.89715266e-01,  3.07963461e-01, -1.30430639e+00,\n",
       "         8.95013034e-01,  9.76746261e-01],\n",
       "       [ 1.32502365e+00,  8.46980810e-01, -3.83974522e-01,\n",
       "        -1.85044849e+00, -6.12973213e-01],\n",
       "       [-7.55715072e-01, -9.73987058e-02, -1.12700462e+00,\n",
       "         6.73589766e-01,  2.12730110e-01],\n",
       "       [ 3.25799882e-02,  1.11979234e+00, -1.54796088e+00,\n",
       "         3.00153792e-01,  4.88758720e-02],\n",
       "       [-3.00956666e-01,  1.39788377e+00, -7.72185981e-01,\n",
       "         7.11167812e-01, -1.39130622e-01],\n",
       "       [-5.00973940e-01, -9.50667977e-01, -1.27145135e+00,\n",
       "        -1.10788977e+00, -3.90039772e-01],\n",
       "       [-1.05177295e+00,  4.62922275e-01,  4.03635383e-01,\n",
       "        -8.10787201e-01,  2.22408205e-01],\n",
       "       [ 3.09971362e-01,  1.02862436e-02, -8.87967408e-01,\n",
       "        -8.13408315e-01, -9.68559682e-01],\n",
       "       [-5.47516439e-03,  1.74858344e+00, -4.52804714e-01,\n",
       "         7.69553065e-01, -3.01295042e-01],\n",
       "       [-1.30771422e+00, -6.92044914e-01,  1.80323637e+00,\n",
       "        -7.56956115e-02,  4.18828905e-01],\n",
       "       [-2.49620751e-01,  2.10055277e-01,  7.82080591e-02,\n",
       "         6.45262837e-01,  6.64107084e-01],\n",
       "       [-4.62725401e-01, -7.38169849e-01,  2.81624049e-01,\n",
       "         5.36135435e-01, -3.36837322e-01],\n",
       "       [ 1.77256405e+00, -1.11438148e-01,  4.36264843e-01,\n",
       "         3.62283975e-01,  8.89819682e-01],\n",
       "       [-2.75656223e-01,  1.25630903e+00, -8.53877842e-01,\n",
       "         1.33894300e+00, -1.11953065e-01],\n",
       "       [-1.77027977e+00,  2.98729479e-01, -3.21809649e-01,\n",
       "        -1.51360288e-01, -2.28905261e-01],\n",
       "       [ 3.15508574e-01,  5.83868921e-01,  1.51785064e+00,\n",
       "         1.12027693e+00,  6.85622096e-01],\n",
       "       [ 3.75251144e-01,  1.25413859e+00,  6.47898078e-01,\n",
       "         1.31503701e-01, -1.41480076e+00],\n",
       "       [-1.24285102e+00, -2.59400159e-01, -1.39093912e+00,\n",
       "         2.75579005e-01,  9.54233825e-01],\n",
       "       [ 4.24836457e-01, -8.79939616e-01, -6.16325915e-01,\n",
       "         1.77268758e-01,  7.72604525e-01],\n",
       "       [-1.18678355e+00,  1.85887337e-01, -1.25181317e+00,\n",
       "         1.74863577e-01,  1.64311779e+00],\n",
       "       [ 4.78842354e-04, -4.71877307e-01,  9.31217670e-01,\n",
       "         1.55594468e-01, -3.53347510e-01],\n",
       "       [-6.61906898e-01,  1.71902215e+00,  2.81253755e-01,\n",
       "         8.86940490e-03,  1.74535894e+00],\n",
       "       [-2.09362000e-01,  3.62348616e-01, -9.18512046e-01,\n",
       "        -5.24543822e-01, -2.14043409e-01],\n",
       "       [-7.29785919e-01, -5.04626572e-01,  4.92370307e-01,\n",
       "         9.73660469e-01,  5.99636197e-01],\n",
       "       [-3.32651660e-02, -6.33852422e-01,  1.21768308e+00,\n",
       "        -7.40485191e-01, -6.07648492e-01],\n",
       "       [-2.35736951e-01, -3.61246496e-01, -6.55015767e-01,\n",
       "         1.42617822e+00,  8.94915402e-01],\n",
       "       [ 1.67377734e+00, -1.40197468e+00,  2.26309247e-04,\n",
       "        -1.55619454e+00,  7.27406025e-01],\n",
       "       [-4.43431377e-01, -4.50056225e-01,  3.24933857e-01,\n",
       "        -8.21641326e-01, -1.21290410e+00],\n",
       "       [ 1.71342224e-01, -7.41631448e-01,  2.55224913e-01,\n",
       "         1.54034889e+00, -8.75511348e-01],\n",
       "       [-4.81529087e-01, -8.94011974e-01, -4.73826349e-01,\n",
       "        -1.35835207e+00,  5.68791151e-01],\n",
       "       [-5.97024143e-01, -9.85566735e-01, -1.38922262e+00,\n",
       "         8.73639166e-01, -1.76831293e+00],\n",
       "       [-6.34899363e-02,  1.11916375e+00, -4.97754067e-01,\n",
       "        -5.39441407e-01, -1.36116385e+00],\n",
       "       [ 8.52527991e-02, -1.82359651e-01, -8.97132456e-01,\n",
       "         1.43206298e-01, -1.65180671e+00],\n",
       "       [ 1.89188719e+00, -7.63397872e-01, -4.89382952e-01,\n",
       "         2.83253014e-01, -3.71941239e-01],\n",
       "       [ 4.53645259e-01, -9.05685902e-01, -2.81007946e-01,\n",
       "         5.05435348e-01, -1.01586998e+00],\n",
       "       [ 1.15112834e-01, -1.59448528e+00, -1.71578825e+00,\n",
       "        -1.09026797e-01, -2.04136640e-01],\n",
       "       [-4.48389679e-01,  1.44855046e+00,  2.31424063e-01,\n",
       "         1.01018202e+00, -1.23703754e+00],\n",
       "       [-1.71493614e+00, -4.15794030e-02,  1.05850232e+00,\n",
       "         5.93653858e-01,  1.02497125e+00],\n",
       "       [-3.88641149e-01, -8.88338983e-01, -3.05809081e-01,\n",
       "         8.25909674e-01,  6.30052924e-01],\n",
       "       [ 3.50462973e-01, -8.16242456e-01, -3.05627495e-01,\n",
       "         1.30709291e+00,  2.70765245e-01],\n",
       "       [ 6.97903574e-01, -2.10227370e-02,  1.22285652e+00,\n",
       "         2.57419765e-01, -1.17452371e+00],\n",
       "       [ 2.29823828e-01, -3.71612996e-01,  5.63101113e-01,\n",
       "         8.05885196e-01, -1.21161413e+00],\n",
       "       [-8.03589463e-01,  6.96801424e-01,  1.38454425e+00,\n",
       "        -1.47299737e-01, -3.81167263e-01],\n",
       "       [ 9.84179020e-01, -1.27973855e+00, -4.32363421e-01,\n",
       "        -5.81102073e-02,  8.97120535e-02],\n",
       "       [-4.09918904e-01,  2.70697862e-01,  2.30754793e-01,\n",
       "        -7.00217009e-01,  1.83179069e+00],\n",
       "       [ 1.20390594e+00,  3.40758950e-01, -7.89326966e-01,\n",
       "         9.98982191e-01, -5.41006148e-01],\n",
       "       [-4.64887857e-01, -6.30015850e-01, -9.16668952e-01,\n",
       "         8.18012476e-01, -2.46716201e-01],\n",
       "       [ 1.13434565e+00, -1.10944080e+00, -1.37050152e+00,\n",
       "        -3.86175185e-01, -1.40246594e+00],\n",
       "       [-6.51327372e-01, -4.63296652e-01,  3.63066196e-01,\n",
       "         1.79335904e+00, -1.67765014e-03],\n",
       "       [ 7.84330189e-01,  1.17486525e+00, -2.99784273e-01,\n",
       "        -1.26961434e+00, -2.59857357e-01],\n",
       "       [-5.30544698e-01,  7.55878747e-01,  1.39496565e+00,\n",
       "        -1.08335447e+00,  3.39907020e-01],\n",
       "       [ 9.29535329e-01,  6.83123887e-01,  8.85755539e-01,\n",
       "         4.71600205e-01,  7.28061140e-01],\n",
       "       [-1.54834509e+00,  1.61601651e+00,  5.46291888e-01,\n",
       "         1.06493071e-01,  9.16473329e-01]], dtype=float32)>>"
      ]
     },
     "execution_count": 10,
     "metadata": {},
     "output_type": "execute_result"
    }
   ],
   "source": [
    "weights.value"
   ]
  },
  {
   "cell_type": "code",
   "execution_count": 11,
   "metadata": {},
   "outputs": [],
   "source": [
    "bias = tf.Variable(tf.zeros(n_labels))"
   ]
  },
  {
   "cell_type": "code",
   "execution_count": 12,
   "metadata": {},
   "outputs": [
    {
     "data": {
      "text/plain": [
       "<tf.Variable 'Variable:0' shape=(5,) dtype=float32, numpy=array([0., 0., 0., 0., 0.], dtype=float32)>"
      ]
     },
     "execution_count": 12,
     "metadata": {},
     "output_type": "execute_result"
    }
   ],
   "source": [
    "bias"
   ]
  },
  {
   "cell_type": "markdown",
   "metadata": {},
   "source": [
    "You'll be classifying the handwritten numbers 0, 1, and 2 from the MNIST dataset using TensorFlow. The above is a small sample of the data you'll be training on. Notice how some of the 1s are written with a serif at the top and at different angles. The similarities and differences will play a part in shaping the weights of the model."
   ]
  },
  {
   "cell_type": "code",
   "execution_count": 13,
   "metadata": {},
   "outputs": [],
   "source": [
    "def get_weights(n_features, n_labels):\n",
    "    \"\"\"\n",
    "    Return TensorFlow weights\n",
    "    :param n_features: Number of features\n",
    "    :param n_labels: Number of labels\n",
    "    :return: TensorFlow weights\n",
    "    \"\"\"\n",
    "    # TODO: Return weights\n",
    "    return tf.Variable(tf.random.truncated_normal(([n_features, n_labels])))\n"
   ]
  },
  {
   "cell_type": "code",
   "execution_count": 15,
   "metadata": {},
   "outputs": [],
   "source": [
    "def get_biases(n_labels):\n",
    "    \"\"\"\n",
    "    Return TensorFlow bias\n",
    "    :param n_labels: Number of labels\n",
    "    :return: TensorFlow bias\n",
    "    \"\"\"\n",
    "    # TODO: Return biases\n",
    "    return tf.Variable(tf.zeros(n_labels))\n",
    "\n"
   ]
  },
  {
   "cell_type": "code",
   "execution_count": 16,
   "metadata": {},
   "outputs": [],
   "source": [
    "\n",
    "def linear(input, w, b):\n",
    "    \"\"\"\n",
    "    Return linear function in TensorFlow\n",
    "    :param input: TensorFlow input\n",
    "    :param w: TensorFlow weights\n",
    "    :param b: TensorFlow biases\n",
    "    :return: TensorFlow linear function\n",
    "    \"\"\"\n",
    "    # TODO: Linear Function (xW + b)\n",
    "    return tf.add(tf.matmul(x, w), b)"
   ]
  },
  {
   "cell_type": "code",
   "execution_count": 21,
   "metadata": {},
   "outputs": [
    {
     "name": "stdout",
     "output_type": "stream",
     "text": [
      "\u001b[1mDownloading and preparing dataset mnist (11.06 MiB) to /home/wajeeh-machine/tensorflow_datasets/mnist/1.0.0...\u001b[0m\n"
     ]
    },
    {
     "name": "stderr",
     "output_type": "stream",
     "text": [
      "WARNING:absl:Dataset mnist is hosted on GCS. It will automatically be downloaded to your\n",
      "local data directory. If you'd instead prefer to read directly from our public\n",
      "GCS bucket (recommended if you're running on GCP), you can instead set\n",
      "data_dir=gs://tfds-data/datasets.\n",
      "\n"
     ]
    },
    {
     "data": {
      "application/vnd.jupyter.widget-view+json": {
       "model_id": "967906b3d7ab4914b1e7824cf46e779f",
       "version_major": 2,
       "version_minor": 0
      },
      "text/plain": [
       "HBox(children=(FloatProgress(value=0.0, description='Dl Completed...', max=19.0, style=ProgressStyle(descripti…"
      ]
     },
     "metadata": {},
     "output_type": "display_data"
    },
    {
     "name": "stdout",
     "output_type": "stream",
     "text": [
      "\n",
      "\n",
      "\u001b[1mDataset mnist downloaded and prepared to /home/wajeeh-machine/tensorflow_datasets/mnist/1.0.0. Subsequent calls will reuse this data.\u001b[0m\n"
     ]
    }
   ],
   "source": [
    "import tensorflow_datasets as tfds\n",
    "dataset = tfds.load(name=\"mnist\", split=tfds.Split.TRAIN)"
   ]
  },
  {
   "cell_type": "code",
   "execution_count": 22,
   "metadata": {},
   "outputs": [],
   "source": [
    "def mnist_features_labels(n_labels):\n",
    "    \"\"\"\n",
    "    Gets the first <n> labels from the MNIST dataset\n",
    "    :param n_labels: Number of labels to use\n",
    "    :return: Tuple of feature list and label list\n",
    "    \"\"\"\n",
    "    mnist_features = []\n",
    "    mnist_labels = []\n",
    "\n",
    "    mnist = input_data.read_data_sets('/datasets/ud730/mnist', one_hot=True)\n",
    "\n",
    "    # In order to make quizzes run faster, we're only looking at 10000 images\n",
    "    for mnist_feature, mnist_label in zip(*mnist.train.next_batch(10000)):\n",
    "\n",
    "        # Add features and labels if it's for the first <n>th labels\n",
    "        if mnist_label[:n_labels].any():\n",
    "            mnist_features.append(mnist_feature)\n",
    "            mnist_labels.append(mnist_label[:n_labels])\n",
    "\n",
    "    return mnist_features, mnist_labels\n"
   ]
  },
  {
   "cell_type": "code",
   "execution_count": 26,
   "metadata": {},
   "outputs": [
    {
     "ename": "InvalidArgumentError",
     "evalue": "cannot compute MatMul as input #1(zero-based) was expected to be a int32 tensor but is a float tensor [Op:MatMul] name: MatMul/",
     "output_type": "error",
     "traceback": [
      "\u001b[0;31m---------------------------------------------------------------------------\u001b[0m",
      "\u001b[0;31mInvalidArgumentError\u001b[0m                      Traceback (most recent call last)",
      "\u001b[0;32m<ipython-input-26-a2533368d9df>\u001b[0m in \u001b[0;36m<module>\u001b[0;34m\u001b[0m\n\u001b[1;32m     13\u001b[0m \u001b[0;34m\u001b[0m\u001b[0m\n\u001b[1;32m     14\u001b[0m \u001b[0;31m# Linear Function xW + b\u001b[0m\u001b[0;34m\u001b[0m\u001b[0;34m\u001b[0m\u001b[0;34m\u001b[0m\u001b[0m\n\u001b[0;32m---> 15\u001b[0;31m \u001b[0mlogits\u001b[0m \u001b[0;34m=\u001b[0m \u001b[0mlinear\u001b[0m\u001b[0;34m(\u001b[0m\u001b[0mfeatures\u001b[0m\u001b[0;34m,\u001b[0m \u001b[0mw\u001b[0m\u001b[0;34m,\u001b[0m \u001b[0mb\u001b[0m\u001b[0;34m)\u001b[0m\u001b[0;34m\u001b[0m\u001b[0;34m\u001b[0m\u001b[0m\n\u001b[0m\u001b[1;32m     16\u001b[0m \u001b[0;34m\u001b[0m\u001b[0m\n\u001b[1;32m     17\u001b[0m \u001b[0;31m# Training data\u001b[0m\u001b[0;34m\u001b[0m\u001b[0;34m\u001b[0m\u001b[0;34m\u001b[0m\u001b[0m\n",
      "\u001b[0;32m<ipython-input-16-e04cd0520eab>\u001b[0m in \u001b[0;36mlinear\u001b[0;34m(input, w, b)\u001b[0m\n\u001b[1;32m      8\u001b[0m     \"\"\"\n\u001b[1;32m      9\u001b[0m     \u001b[0;31m# TODO: Linear Function (xW + b)\u001b[0m\u001b[0;34m\u001b[0m\u001b[0;34m\u001b[0m\u001b[0;34m\u001b[0m\u001b[0m\n\u001b[0;32m---> 10\u001b[0;31m     \u001b[0;32mreturn\u001b[0m \u001b[0mtf\u001b[0m\u001b[0;34m.\u001b[0m\u001b[0madd\u001b[0m\u001b[0;34m(\u001b[0m\u001b[0mtf\u001b[0m\u001b[0;34m.\u001b[0m\u001b[0mmatmul\u001b[0m\u001b[0;34m(\u001b[0m\u001b[0mx\u001b[0m\u001b[0;34m,\u001b[0m \u001b[0mw\u001b[0m\u001b[0;34m)\u001b[0m\u001b[0;34m,\u001b[0m \u001b[0mb\u001b[0m\u001b[0;34m)\u001b[0m\u001b[0;34m\u001b[0m\u001b[0;34m\u001b[0m\u001b[0m\n\u001b[0m",
      "\u001b[0;32m~/anaconda3/envs/mytf2/lib/python3.7/site-packages/tensorflow_core/python/util/dispatch.py\u001b[0m in \u001b[0;36mwrapper\u001b[0;34m(*args, **kwargs)\u001b[0m\n\u001b[1;32m    178\u001b[0m     \u001b[0;34m\"\"\"Call target, and fall back on dispatchers if there is a TypeError.\"\"\"\u001b[0m\u001b[0;34m\u001b[0m\u001b[0;34m\u001b[0m\u001b[0m\n\u001b[1;32m    179\u001b[0m     \u001b[0;32mtry\u001b[0m\u001b[0;34m:\u001b[0m\u001b[0;34m\u001b[0m\u001b[0;34m\u001b[0m\u001b[0m\n\u001b[0;32m--> 180\u001b[0;31m       \u001b[0;32mreturn\u001b[0m \u001b[0mtarget\u001b[0m\u001b[0;34m(\u001b[0m\u001b[0;34m*\u001b[0m\u001b[0margs\u001b[0m\u001b[0;34m,\u001b[0m \u001b[0;34m**\u001b[0m\u001b[0mkwargs\u001b[0m\u001b[0;34m)\u001b[0m\u001b[0;34m\u001b[0m\u001b[0;34m\u001b[0m\u001b[0m\n\u001b[0m\u001b[1;32m    181\u001b[0m     \u001b[0;32mexcept\u001b[0m \u001b[0;34m(\u001b[0m\u001b[0mTypeError\u001b[0m\u001b[0;34m,\u001b[0m \u001b[0mValueError\u001b[0m\u001b[0;34m)\u001b[0m\u001b[0;34m:\u001b[0m\u001b[0;34m\u001b[0m\u001b[0;34m\u001b[0m\u001b[0m\n\u001b[1;32m    182\u001b[0m       \u001b[0;31m# Note: convert_to_eager_tensor currently raises a ValueError, not a\u001b[0m\u001b[0;34m\u001b[0m\u001b[0;34m\u001b[0m\u001b[0;34m\u001b[0m\u001b[0m\n",
      "\u001b[0;32m~/anaconda3/envs/mytf2/lib/python3.7/site-packages/tensorflow_core/python/ops/math_ops.py\u001b[0m in \u001b[0;36mmatmul\u001b[0;34m(a, b, transpose_a, transpose_b, adjoint_a, adjoint_b, a_is_sparse, b_is_sparse, name)\u001b[0m\n\u001b[1;32m   2796\u001b[0m     \u001b[0;32melse\u001b[0m\u001b[0;34m:\u001b[0m\u001b[0;34m\u001b[0m\u001b[0;34m\u001b[0m\u001b[0m\n\u001b[1;32m   2797\u001b[0m       return gen_math_ops.mat_mul(\n\u001b[0;32m-> 2798\u001b[0;31m           a, b, transpose_a=transpose_a, transpose_b=transpose_b, name=name)\n\u001b[0m\u001b[1;32m   2799\u001b[0m \u001b[0;34m\u001b[0m\u001b[0m\n\u001b[1;32m   2800\u001b[0m \u001b[0;34m\u001b[0m\u001b[0m\n",
      "\u001b[0;32m~/anaconda3/envs/mytf2/lib/python3.7/site-packages/tensorflow_core/python/ops/gen_math_ops.py\u001b[0m in \u001b[0;36mmat_mul\u001b[0;34m(a, b, transpose_a, transpose_b, name)\u001b[0m\n\u001b[1;32m   5614\u001b[0m         \u001b[0;32mpass\u001b[0m  \u001b[0;31m# Add nodes to the TensorFlow graph.\u001b[0m\u001b[0;34m\u001b[0m\u001b[0;34m\u001b[0m\u001b[0m\n\u001b[1;32m   5615\u001b[0m     \u001b[0;32mexcept\u001b[0m \u001b[0m_core\u001b[0m\u001b[0;34m.\u001b[0m\u001b[0m_NotOkStatusException\u001b[0m \u001b[0;32mas\u001b[0m \u001b[0me\u001b[0m\u001b[0;34m:\u001b[0m\u001b[0;34m\u001b[0m\u001b[0;34m\u001b[0m\u001b[0m\n\u001b[0;32m-> 5616\u001b[0;31m       \u001b[0m_ops\u001b[0m\u001b[0;34m.\u001b[0m\u001b[0mraise_from_not_ok_status\u001b[0m\u001b[0;34m(\u001b[0m\u001b[0me\u001b[0m\u001b[0;34m,\u001b[0m \u001b[0mname\u001b[0m\u001b[0;34m)\u001b[0m\u001b[0;34m\u001b[0m\u001b[0;34m\u001b[0m\u001b[0m\n\u001b[0m\u001b[1;32m   5617\u001b[0m   \u001b[0;31m# Add nodes to the TensorFlow graph.\u001b[0m\u001b[0;34m\u001b[0m\u001b[0;34m\u001b[0m\u001b[0;34m\u001b[0m\u001b[0m\n\u001b[1;32m   5618\u001b[0m   \u001b[0;32mif\u001b[0m \u001b[0mtranspose_a\u001b[0m \u001b[0;32mis\u001b[0m \u001b[0;32mNone\u001b[0m\u001b[0;34m:\u001b[0m\u001b[0;34m\u001b[0m\u001b[0;34m\u001b[0m\u001b[0m\n",
      "\u001b[0;32m~/anaconda3/envs/mytf2/lib/python3.7/site-packages/tensorflow_core/python/framework/ops.py\u001b[0m in \u001b[0;36mraise_from_not_ok_status\u001b[0;34m(e, name)\u001b[0m\n\u001b[1;32m   6604\u001b[0m   \u001b[0mmessage\u001b[0m \u001b[0;34m=\u001b[0m \u001b[0me\u001b[0m\u001b[0;34m.\u001b[0m\u001b[0mmessage\u001b[0m \u001b[0;34m+\u001b[0m \u001b[0;34m(\u001b[0m\u001b[0;34m\" name: \"\u001b[0m \u001b[0;34m+\u001b[0m \u001b[0mname\u001b[0m \u001b[0;32mif\u001b[0m \u001b[0mname\u001b[0m \u001b[0;32mis\u001b[0m \u001b[0;32mnot\u001b[0m \u001b[0;32mNone\u001b[0m \u001b[0;32melse\u001b[0m \u001b[0;34m\"\"\u001b[0m\u001b[0;34m)\u001b[0m\u001b[0;34m\u001b[0m\u001b[0;34m\u001b[0m\u001b[0m\n\u001b[1;32m   6605\u001b[0m   \u001b[0;31m# pylint: disable=protected-access\u001b[0m\u001b[0;34m\u001b[0m\u001b[0;34m\u001b[0m\u001b[0;34m\u001b[0m\u001b[0m\n\u001b[0;32m-> 6606\u001b[0;31m   \u001b[0msix\u001b[0m\u001b[0;34m.\u001b[0m\u001b[0mraise_from\u001b[0m\u001b[0;34m(\u001b[0m\u001b[0mcore\u001b[0m\u001b[0;34m.\u001b[0m\u001b[0m_status_to_exception\u001b[0m\u001b[0;34m(\u001b[0m\u001b[0me\u001b[0m\u001b[0;34m.\u001b[0m\u001b[0mcode\u001b[0m\u001b[0;34m,\u001b[0m \u001b[0mmessage\u001b[0m\u001b[0;34m)\u001b[0m\u001b[0;34m,\u001b[0m \u001b[0;32mNone\u001b[0m\u001b[0;34m)\u001b[0m\u001b[0;34m\u001b[0m\u001b[0;34m\u001b[0m\u001b[0m\n\u001b[0m\u001b[1;32m   6607\u001b[0m   \u001b[0;31m# pylint: enable=protected-access\u001b[0m\u001b[0;34m\u001b[0m\u001b[0;34m\u001b[0m\u001b[0;34m\u001b[0m\u001b[0m\n\u001b[1;32m   6608\u001b[0m \u001b[0;34m\u001b[0m\u001b[0m\n",
      "\u001b[0;32m~/anaconda3/envs/mytf2/lib/python3.7/site-packages/six.py\u001b[0m in \u001b[0;36mraise_from\u001b[0;34m(value, from_value)\u001b[0m\n",
      "\u001b[0;31mInvalidArgumentError\u001b[0m: cannot compute MatMul as input #1(zero-based) was expected to be a int32 tensor but is a float tensor [Op:MatMul] name: MatMul/"
     ]
    }
   ],
   "source": [
    "# Number of features (28*28 image is 784 features)\n",
    "n_features = 784\n",
    "# Number of labels\n",
    "n_labels = 3\n",
    "\n",
    "# Features and Labels\n",
    "features = tf.placeholder(tf.float32)\n",
    "labels = tf.placeholder(tf.float32)\n",
    "\n",
    "# Weights and Biases\n",
    "w = get_weights(n_features, n_labels)\n",
    "b = get_biases(n_labels)\n",
    "\n",
    "# Linear Function xW + b\n",
    "logits = linear(features, w, b)\n",
    "\n",
    "# Training data\n",
    "train_features, train_labels = mnist_features_labels(n_labels)\n",
    "\n",
    "with tf.Session() as session:\n",
    "    # TODO: Initialize session variables\n",
    "    \n",
    "    # Softmax\n",
    "    prediction = tf.nn.softmax(logits)\n",
    "\n",
    "    # Cross entropy\n",
    "    # This quantifies how far off the predictions were.\n",
    "    # You'll learn more about this in future lessons.\n",
    "    cross_entropy = -tf.reduce_sum(labels * tf.log(prediction), reduction_indices=1)\n",
    "\n",
    "    # Training loss\n",
    "    # You'll learn more about this in future lessons.\n",
    "    loss = tf.reduce_mean(cross_entropy)\n",
    "\n",
    "    # Rate at which the weights are changed\n",
    "    # You'll learn more about this in future lessons.\n",
    "    learning_rate = 0.08\n",
    "\n",
    "    # Gradient Descent\n",
    "    # This is the method used to train the model\n",
    "    # You'll learn more about this in future lessons.\n",
    "    optimizer = tf.train.GradientDescentOptimizer(learning_rate).minimize(loss)\n",
    "\n",
    "    # Run optimizer and get loss\n",
    "    _, l = session.run(\n",
    "        [optimizer, loss],\n",
    "        feed_dict={features: train_features, labels: train_labels})\n",
    "\n",
    "# Print loss\n",
    "print('Loss: {}'.format(l))"
   ]
  },
  {
   "cell_type": "code",
   "execution_count": null,
   "metadata": {},
   "outputs": [],
   "source": [
    "\n",
    "\n",
    "def run():\n",
    "    output = None\n",
    "    logit_data = [2.0, 1.0, 0.1]\n",
    "    logits = tf.placeholder(tf.float32)\n",
    "\n",
    "    softmax = tf.nn.softmax(logits)\n",
    "\n",
    "    with tf.Session() as sess:\n",
    "        output = sess.run(softmax, feed_dict={logits: logit_data})\n",
    "\n",
    "    return output"
   ]
  }
 ],
 "metadata": {
  "kernelspec": {
   "display_name": "Python 3",
   "language": "python",
   "name": "python3"
  },
  "language_info": {
   "codemirror_mode": {
    "name": "ipython",
    "version": 3
   },
   "file_extension": ".py",
   "mimetype": "text/x-python",
   "name": "python",
   "nbconvert_exporter": "python",
   "pygments_lexer": "ipython3",
   "version": "3.7.6"
  }
 },
 "nbformat": 4,
 "nbformat_minor": 2
}
