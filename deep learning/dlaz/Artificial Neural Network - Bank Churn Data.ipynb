{
 "cells": [
  {
   "cell_type": "code",
   "execution_count": 28,
   "metadata": {},
   "outputs": [],
   "source": [
    "import pandas as pd\n",
    "import numpy as np\n",
    "import matplotlib.pyplot as plt"
   ]
  },
  {
   "cell_type": "code",
   "execution_count": 29,
   "metadata": {},
   "outputs": [
    {
     "name": "stdout",
     "output_type": "stream",
     "text": [
      "../../datasets/machine_learning_a-z/P14-Artificial-Neural-Networks/Artificial_Neural_Networks/Churn_Modelling.csv\r\n",
      "../../datasets/machine_learning_a-z/P14-Artificial-Neural-Networks/__MACOSX/Artificial_Neural_Networks/._Churn_Modelling.csv\r\n",
      "../../datasets/machine_learning_a-z/P14-XGBoost/__MACOSX/XGBoost/._Churn_Modelling.csv\r\n",
      "../../datasets/machine_learning_a-z/P14-XGBoost/XGBoost/Churn_Modelling.csv\r\n",
      "../../datasets/deep_learning_a-z/P16-Artificial-Neural-Networks/Artificial_Neural_Networks/Churn_Modelling.csv\r\n",
      "../../datasets/deep_learning_a-z/P16-Artificial-Neural-Networks/__MACOSX/Artificial_Neural_Networks/._Churn_Modelling.csv\r\n"
     ]
    }
   ],
   "source": [
    "! find ../../  | grep Churn"
   ]
  },
  {
   "cell_type": "code",
   "execution_count": 30,
   "metadata": {},
   "outputs": [],
   "source": [
    "dataset = pd.read_csv('../../datasets/machine_learning_a-z/P14-Artificial-Neural-Networks/Artificial_Neural_Networks/Churn_Modelling.csv')"
   ]
  },
  {
   "cell_type": "code",
   "execution_count": 31,
   "metadata": {},
   "outputs": [
    {
     "data": {
      "text/html": [
       "<div>\n",
       "<style scoped>\n",
       "    .dataframe tbody tr th:only-of-type {\n",
       "        vertical-align: middle;\n",
       "    }\n",
       "\n",
       "    .dataframe tbody tr th {\n",
       "        vertical-align: top;\n",
       "    }\n",
       "\n",
       "    .dataframe thead th {\n",
       "        text-align: right;\n",
       "    }\n",
       "</style>\n",
       "<table border=\"1\" class=\"dataframe\">\n",
       "  <thead>\n",
       "    <tr style=\"text-align: right;\">\n",
       "      <th></th>\n",
       "      <th>RowNumber</th>\n",
       "      <th>CustomerId</th>\n",
       "      <th>Surname</th>\n",
       "      <th>CreditScore</th>\n",
       "      <th>Geography</th>\n",
       "      <th>Gender</th>\n",
       "      <th>Age</th>\n",
       "      <th>Tenure</th>\n",
       "      <th>Balance</th>\n",
       "      <th>NumOfProducts</th>\n",
       "      <th>HasCrCard</th>\n",
       "      <th>IsActiveMember</th>\n",
       "      <th>EstimatedSalary</th>\n",
       "      <th>Exited</th>\n",
       "    </tr>\n",
       "  </thead>\n",
       "  <tbody>\n",
       "    <tr>\n",
       "      <th>0</th>\n",
       "      <td>1</td>\n",
       "      <td>15634602</td>\n",
       "      <td>Hargrave</td>\n",
       "      <td>619</td>\n",
       "      <td>France</td>\n",
       "      <td>Female</td>\n",
       "      <td>42</td>\n",
       "      <td>2</td>\n",
       "      <td>0.00</td>\n",
       "      <td>1</td>\n",
       "      <td>1</td>\n",
       "      <td>1</td>\n",
       "      <td>101348.88</td>\n",
       "      <td>1</td>\n",
       "    </tr>\n",
       "    <tr>\n",
       "      <th>1</th>\n",
       "      <td>2</td>\n",
       "      <td>15647311</td>\n",
       "      <td>Hill</td>\n",
       "      <td>608</td>\n",
       "      <td>Spain</td>\n",
       "      <td>Female</td>\n",
       "      <td>41</td>\n",
       "      <td>1</td>\n",
       "      <td>83807.86</td>\n",
       "      <td>1</td>\n",
       "      <td>0</td>\n",
       "      <td>1</td>\n",
       "      <td>112542.58</td>\n",
       "      <td>0</td>\n",
       "    </tr>\n",
       "    <tr>\n",
       "      <th>2</th>\n",
       "      <td>3</td>\n",
       "      <td>15619304</td>\n",
       "      <td>Onio</td>\n",
       "      <td>502</td>\n",
       "      <td>France</td>\n",
       "      <td>Female</td>\n",
       "      <td>42</td>\n",
       "      <td>8</td>\n",
       "      <td>159660.80</td>\n",
       "      <td>3</td>\n",
       "      <td>1</td>\n",
       "      <td>0</td>\n",
       "      <td>113931.57</td>\n",
       "      <td>1</td>\n",
       "    </tr>\n",
       "    <tr>\n",
       "      <th>3</th>\n",
       "      <td>4</td>\n",
       "      <td>15701354</td>\n",
       "      <td>Boni</td>\n",
       "      <td>699</td>\n",
       "      <td>France</td>\n",
       "      <td>Female</td>\n",
       "      <td>39</td>\n",
       "      <td>1</td>\n",
       "      <td>0.00</td>\n",
       "      <td>2</td>\n",
       "      <td>0</td>\n",
       "      <td>0</td>\n",
       "      <td>93826.63</td>\n",
       "      <td>0</td>\n",
       "    </tr>\n",
       "    <tr>\n",
       "      <th>4</th>\n",
       "      <td>5</td>\n",
       "      <td>15737888</td>\n",
       "      <td>Mitchell</td>\n",
       "      <td>850</td>\n",
       "      <td>Spain</td>\n",
       "      <td>Female</td>\n",
       "      <td>43</td>\n",
       "      <td>2</td>\n",
       "      <td>125510.82</td>\n",
       "      <td>1</td>\n",
       "      <td>1</td>\n",
       "      <td>1</td>\n",
       "      <td>79084.10</td>\n",
       "      <td>0</td>\n",
       "    </tr>\n",
       "  </tbody>\n",
       "</table>\n",
       "</div>"
      ],
      "text/plain": [
       "   RowNumber  CustomerId   Surname  CreditScore Geography  Gender  Age  \\\n",
       "0          1    15634602  Hargrave          619    France  Female   42   \n",
       "1          2    15647311      Hill          608     Spain  Female   41   \n",
       "2          3    15619304      Onio          502    France  Female   42   \n",
       "3          4    15701354      Boni          699    France  Female   39   \n",
       "4          5    15737888  Mitchell          850     Spain  Female   43   \n",
       "\n",
       "   Tenure    Balance  NumOfProducts  HasCrCard  IsActiveMember  \\\n",
       "0       2       0.00              1          1               1   \n",
       "1       1   83807.86              1          0               1   \n",
       "2       8  159660.80              3          1               0   \n",
       "3       1       0.00              2          0               0   \n",
       "4       2  125510.82              1          1               1   \n",
       "\n",
       "   EstimatedSalary  Exited  \n",
       "0        101348.88       1  \n",
       "1        112542.58       0  \n",
       "2        113931.57       1  \n",
       "3         93826.63       0  \n",
       "4         79084.10       0  "
      ]
     },
     "execution_count": 31,
     "metadata": {},
     "output_type": "execute_result"
    }
   ],
   "source": [
    "dataset.head()"
   ]
  },
  {
   "cell_type": "code",
   "execution_count": 32,
   "metadata": {},
   "outputs": [],
   "source": [
    "X= dataset.iloc[:,3:13].values\n",
    "y = dataset.iloc[:,13].values"
   ]
  },
  {
   "cell_type": "markdown",
   "metadata": {},
   "source": [
    "### Feature Engineer\n",
    "Encode categorical data"
   ]
  },
  {
   "cell_type": "code",
   "execution_count": 33,
   "metadata": {},
   "outputs": [
    {
     "data": {
      "text/plain": [
       "array([[619, 'France', 'Female', ..., 1, 1, 101348.88],\n",
       "       [608, 'Spain', 'Female', ..., 0, 1, 112542.58],\n",
       "       [502, 'France', 'Female', ..., 1, 0, 113931.57],\n",
       "       ...,\n",
       "       [709, 'France', 'Female', ..., 0, 1, 42085.58],\n",
       "       [772, 'Germany', 'Male', ..., 1, 0, 92888.52],\n",
       "       [792, 'France', 'Female', ..., 1, 0, 38190.78]], dtype=object)"
      ]
     },
     "execution_count": 33,
     "metadata": {},
     "output_type": "execute_result"
    }
   ],
   "source": [
    "X"
   ]
  },
  {
   "cell_type": "markdown",
   "metadata": {},
   "source": [
    "Gender and Geography have to be encoded, two label encoder needed"
   ]
  },
  {
   "cell_type": "code",
   "execution_count": 34,
   "metadata": {},
   "outputs": [],
   "source": [
    "from sklearn.preprocessing import LabelEncoder, OneHotEncoder\n",
    "\n",
    "# For two\n",
    "labelencoder_X_1 = LabelEncoder()\n",
    "X[:,1] = labelencoder_X_1.fit_transform(X[:,1])\n",
    "labelencoder_X_2 = LabelEncoder()\n",
    "X[:,2] = labelencoder_X_1.fit_transform(X[:,2])"
   ]
  },
  {
   "cell_type": "code",
   "execution_count": 35,
   "metadata": {},
   "outputs": [
    {
     "name": "stdout",
     "output_type": "stream",
     "text": [
      "[[619 0 0 ... 1 1 101348.88]\n",
      " [608 2 0 ... 0 1 112542.58]\n",
      " [502 0 0 ... 1 0 113931.57]\n",
      " ...\n",
      " [709 0 0 ... 0 1 42085.58]\n",
      " [772 1 1 ... 1 0 92888.52]\n",
      " [792 0 0 ... 1 0 38190.78]]\n"
     ]
    }
   ],
   "source": [
    "print(X)"
   ]
  },
  {
   "cell_type": "code",
   "execution_count": 36,
   "metadata": {},
   "outputs": [
    {
     "name": "stderr",
     "output_type": "stream",
     "text": [
      "/home/wajeeh-ros/.conda/envs/python3/lib/python2.7/site-packages/sklearn/preprocessing/_encoders.py:371: FutureWarning: The handling of integer data will change in version 0.22. Currently, the categories are determined based on the range [0, max(values)], while in the future they will be determined based on the unique values.\n",
      "If you want the future behaviour and silence this warning, you can specify \"categories='auto'\".\n",
      "In case you used a LabelEncoder before this OneHotEncoder to convert the categories to integers, then you can now use the OneHotEncoder directly.\n",
      "  warnings.warn(msg, FutureWarning)\n",
      "/home/wajeeh-ros/.conda/envs/python3/lib/python2.7/site-packages/sklearn/preprocessing/_encoders.py:392: DeprecationWarning: The 'categorical_features' keyword is deprecated in version 0.20 and will be removed in 0.22. You can use the ColumnTransformer instead.\n",
      "  \"use the ColumnTransformer instead.\", DeprecationWarning)\n"
     ]
    }
   ],
   "source": [
    "onehotencoder = OneHotEncoder(categorical_features=[1])\n",
    "X = onehotencoder.fit_transform(X).toarray()"
   ]
  },
  {
   "cell_type": "markdown",
   "metadata": {},
   "source": [
    "PRINT THE ARRAY AS DATAFRAME FOR EXPLORATION"
   ]
  },
  {
   "cell_type": "code",
   "execution_count": 43,
   "metadata": {},
   "outputs": [
    {
     "data": {
      "text/html": [
       "<div>\n",
       "<style scoped>\n",
       "    .dataframe tbody tr th:only-of-type {\n",
       "        vertical-align: middle;\n",
       "    }\n",
       "\n",
       "    .dataframe tbody tr th {\n",
       "        vertical-align: top;\n",
       "    }\n",
       "\n",
       "    .dataframe thead th {\n",
       "        text-align: right;\n",
       "    }\n",
       "</style>\n",
       "<table border=\"1\" class=\"dataframe\">\n",
       "  <thead>\n",
       "    <tr style=\"text-align: right;\">\n",
       "      <th></th>\n",
       "      <th>0</th>\n",
       "      <th>1</th>\n",
       "      <th>2</th>\n",
       "      <th>3</th>\n",
       "      <th>4</th>\n",
       "      <th>5</th>\n",
       "      <th>6</th>\n",
       "      <th>7</th>\n",
       "      <th>8</th>\n",
       "      <th>9</th>\n",
       "      <th>10</th>\n",
       "      <th>11</th>\n",
       "    </tr>\n",
       "  </thead>\n",
       "  <tbody>\n",
       "    <tr>\n",
       "      <th>0</th>\n",
       "      <td>1.0</td>\n",
       "      <td>0.0</td>\n",
       "      <td>0.0</td>\n",
       "      <td>619.0</td>\n",
       "      <td>0.0</td>\n",
       "      <td>42.0</td>\n",
       "      <td>2.0</td>\n",
       "      <td>0.00</td>\n",
       "      <td>1.0</td>\n",
       "      <td>1.0</td>\n",
       "      <td>1.0</td>\n",
       "      <td>101348.88</td>\n",
       "    </tr>\n",
       "    <tr>\n",
       "      <th>1</th>\n",
       "      <td>0.0</td>\n",
       "      <td>0.0</td>\n",
       "      <td>1.0</td>\n",
       "      <td>608.0</td>\n",
       "      <td>0.0</td>\n",
       "      <td>41.0</td>\n",
       "      <td>1.0</td>\n",
       "      <td>83807.86</td>\n",
       "      <td>1.0</td>\n",
       "      <td>0.0</td>\n",
       "      <td>1.0</td>\n",
       "      <td>112542.58</td>\n",
       "    </tr>\n",
       "    <tr>\n",
       "      <th>2</th>\n",
       "      <td>1.0</td>\n",
       "      <td>0.0</td>\n",
       "      <td>0.0</td>\n",
       "      <td>502.0</td>\n",
       "      <td>0.0</td>\n",
       "      <td>42.0</td>\n",
       "      <td>8.0</td>\n",
       "      <td>159660.80</td>\n",
       "      <td>3.0</td>\n",
       "      <td>1.0</td>\n",
       "      <td>0.0</td>\n",
       "      <td>113931.57</td>\n",
       "    </tr>\n",
       "    <tr>\n",
       "      <th>3</th>\n",
       "      <td>1.0</td>\n",
       "      <td>0.0</td>\n",
       "      <td>0.0</td>\n",
       "      <td>699.0</td>\n",
       "      <td>0.0</td>\n",
       "      <td>39.0</td>\n",
       "      <td>1.0</td>\n",
       "      <td>0.00</td>\n",
       "      <td>2.0</td>\n",
       "      <td>0.0</td>\n",
       "      <td>0.0</td>\n",
       "      <td>93826.63</td>\n",
       "    </tr>\n",
       "    <tr>\n",
       "      <th>4</th>\n",
       "      <td>0.0</td>\n",
       "      <td>0.0</td>\n",
       "      <td>1.0</td>\n",
       "      <td>850.0</td>\n",
       "      <td>0.0</td>\n",
       "      <td>43.0</td>\n",
       "      <td>2.0</td>\n",
       "      <td>125510.82</td>\n",
       "      <td>1.0</td>\n",
       "      <td>1.0</td>\n",
       "      <td>1.0</td>\n",
       "      <td>79084.10</td>\n",
       "    </tr>\n",
       "  </tbody>\n",
       "</table>\n",
       "</div>"
      ],
      "text/plain": [
       "    0    1    2      3    4     5    6          7    8    9    10         11\n",
       "0  1.0  0.0  0.0  619.0  0.0  42.0  2.0       0.00  1.0  1.0  1.0  101348.88\n",
       "1  0.0  0.0  1.0  608.0  0.0  41.0  1.0   83807.86  1.0  0.0  1.0  112542.58\n",
       "2  1.0  0.0  0.0  502.0  0.0  42.0  8.0  159660.80  3.0  1.0  0.0  113931.57\n",
       "3  1.0  0.0  0.0  699.0  0.0  39.0  1.0       0.00  2.0  0.0  0.0   93826.63\n",
       "4  0.0  0.0  1.0  850.0  0.0  43.0  2.0  125510.82  1.0  1.0  1.0   79084.10"
      ]
     },
     "execution_count": 43,
     "metadata": {},
     "output_type": "execute_result"
    }
   ],
   "source": [
    "pd.DataFrame(X).head()"
   ]
  },
  {
   "cell_type": "code",
   "execution_count": 44,
   "metadata": {},
   "outputs": [],
   "source": [
    "X=X[:,1:]"
   ]
  },
  {
   "cell_type": "code",
   "execution_count": 45,
   "metadata": {},
   "outputs": [],
   "source": [
    "from sklearn.model_selection import train_test_split\n",
    "X_train, X_test, y_train, y_test = train_test_split(X,y,test_size=0.2,\n",
    "                                                    random_state=0)"
   ]
  },
  {
   "cell_type": "markdown",
   "metadata": {},
   "source": [
    "### FEATURE SCALING\n",
    "important for neural network<br>\n",
    "fit method fits the data<br>\n",
    "transofm then transforms it<br>\n",
    "fit_transform fits and transofms it,<br>\n",
    "if already fitted_transformed then we dont have to fit again\n"
   ]
  },
  {
   "cell_type": "code",
   "execution_count": 47,
   "metadata": {},
   "outputs": [],
   "source": [
    "from sklearn.preprocessing import StandardScaler\n",
    "sc = StandardScaler()\n",
    "X_train = sc.fit_transform(X_train)\n",
    "X_test = sc.transform(X_test)"
   ]
  },
  {
   "cell_type": "markdown",
   "metadata": {},
   "source": [
    "##### BUILD ANN "
   ]
  },
  {
   "cell_type": "code",
   "execution_count": 49,
   "metadata": {},
   "outputs": [
    {
     "name": "stderr",
     "output_type": "stream",
     "text": [
      "Using TensorFlow backend.\n"
     ]
    }
   ],
   "source": [
    "import keras"
   ]
  },
  {
   "cell_type": "code",
   "execution_count": 50,
   "metadata": {},
   "outputs": [],
   "source": [
    "from keras.models import Sequential\n",
    "from keras.layers import Dense"
   ]
  },
  {
   "cell_type": "code",
   "execution_count": 51,
   "metadata": {},
   "outputs": [],
   "source": [
    "classifier = Sequential()"
   ]
  },
  {
   "cell_type": "markdown",
   "metadata": {},
   "source": [
    "Dense(self, units, activation=None, use_bias=True, kernel_initializer='glorot_uniform', bias_initializer='zeros', kernel_regularizer=None, bias_regularizer=None, activity_regularizer=None, kernel_constraint=None, bias_constraint=None, **kwargs)"
   ]
  },
  {
   "cell_type": "markdown",
   "metadata": {},
   "source": [
    "##### optimal number of nodes is  PARAMETER TUNING\n",
    "k-fold is useful (arts)"
   ]
  },
  {
   "cell_type": "code",
   "execution_count": 53,
   "metadata": {},
   "outputs": [
    {
     "name": "stderr",
     "output_type": "stream",
     "text": [
      "/home/wajeeh-ros/.conda/envs/python3/lib/python2.7/site-packages/ipykernel_launcher.py:4: UserWarning: Update your `Dense` call to the Keras 2 API: `Dense(kernel_initializer=\"uniform\", activation=\"relu\", input_dim=11, units=6)`\n",
      "  after removing the cwd from sys.path.\n"
     ]
    }
   ],
   "source": [
    "#input dim have to be specified for the first layer\n",
    "classifier.add(Dense(input_dim=11,\n",
    "                     output_dim=6, init = 'uniform'\n",
    "                     , activation='relu'))"
   ]
  },
  {
   "cell_type": "code",
   "execution_count": 54,
   "metadata": {},
   "outputs": [
    {
     "name": "stderr",
     "output_type": "stream",
     "text": [
      "/home/wajeeh-ros/.conda/envs/python3/lib/python2.7/site-packages/ipykernel_launcher.py:3: UserWarning: Update your `Dense` call to the Keras 2 API: `Dense(units=6, activation=\"relu\", kernel_initializer=\"uniform\")`\n",
      "  This is separate from the ipykernel package so we can avoid doing imports until\n"
     ]
    }
   ],
   "source": [
    "#input dim have to be specified for the first layer\n",
    "classifier.add(Dense(output_dim=6, init = 'uniform'\n",
    "                     , activation='relu'))"
   ]
  },
  {
   "cell_type": "code",
   "execution_count": 56,
   "metadata": {},
   "outputs": [
    {
     "name": "stderr",
     "output_type": "stream",
     "text": [
      "/home/wajeeh-ros/.conda/envs/python3/lib/python2.7/site-packages/ipykernel_launcher.py:3: UserWarning: Update your `Dense` call to the Keras 2 API: `Dense(units=1, activation=\"sigmoid\", kernel_initializer=\"uniform\")`\n",
      "  This is separate from the ipykernel package so we can avoid doing imports until\n"
     ]
    }
   ],
   "source": [
    "#input dim have to be specified for the first layer\n",
    "classifier.add(Dense(output_dim=1, init = 'uniform'\n",
    "                     , activation='sigmoid'))"
   ]
  },
  {
   "cell_type": "code",
   "execution_count": 57,
   "metadata": {},
   "outputs": [
    {
     "name": "stdout",
     "output_type": "stream",
     "text": [
      "WARNING:tensorflow:From /home/wajeeh-ros/.local/lib/python2.7/site-packages/tensorflow/python/framework/op_def_library.py:263: colocate_with (from tensorflow.python.framework.ops) is deprecated and will be removed in a future version.\n",
      "Instructions for updating:\n",
      "Colocations handled automatically by placer.\n"
     ]
    }
   ],
   "source": [
    "classifier.compile(optimizer='adam',loss='binary_crossentropy',\n",
    "                  metrics = ['accuracy'])"
   ]
  },
  {
   "cell_type": "code",
   "execution_count": 59,
   "metadata": {},
   "outputs": [
    {
     "name": "stdout",
     "output_type": "stream",
     "text": [
      "WARNING:tensorflow:From /home/wajeeh-ros/.local/lib/python2.7/site-packages/tensorflow/python/ops/math_ops.py:3066: to_int32 (from tensorflow.python.ops.math_ops) is deprecated and will be removed in a future version.\n",
      "Instructions for updating:\n",
      "Use tf.cast instead.\n",
      "Epoch 1/100\n",
      "8000/8000 [==============================] - 10s 1ms/step - loss: 0.4847 - acc: 0.7954\n",
      "Epoch 2/100\n",
      "8000/8000 [==============================] - 2s 281us/step - loss: 0.4288 - acc: 0.7960\n",
      "Epoch 3/100\n",
      "8000/8000 [==============================] - 2s 285us/step - loss: 0.4217 - acc: 0.8015\n",
      "Epoch 4/100\n",
      "8000/8000 [==============================] - 2s 279us/step - loss: 0.4179 - acc: 0.8209\n",
      "Epoch 5/100\n",
      "8000/8000 [==============================] - 2s 276us/step - loss: 0.4150 - acc: 0.8282\n",
      "Epoch 6/100\n",
      "8000/8000 [==============================] - 2s 283us/step - loss: 0.4140 - acc: 0.8306\n",
      "Epoch 7/100\n",
      "8000/8000 [==============================] - 2s 276us/step - loss: 0.4122 - acc: 0.8334\n",
      "Epoch 8/100\n",
      "8000/8000 [==============================] - 2s 287us/step - loss: 0.4107 - acc: 0.8346\n",
      "Epoch 9/100\n",
      "8000/8000 [==============================] - 2s 276us/step - loss: 0.4101 - acc: 0.8326\n",
      "Epoch 10/100\n",
      "8000/8000 [==============================] - 2s 281us/step - loss: 0.4088 - acc: 0.8337\n",
      "Epoch 11/100\n",
      "8000/8000 [==============================] - 2s 275us/step - loss: 0.4075 - acc: 0.8327\n",
      "Epoch 12/100\n",
      "8000/8000 [==============================] - 2s 285us/step - loss: 0.4076 - acc: 0.8335\n",
      "Epoch 13/100\n",
      "8000/8000 [==============================] - 2s 279us/step - loss: 0.4073 - acc: 0.8330\n",
      "Epoch 14/100\n",
      "8000/8000 [==============================] - 2s 277us/step - loss: 0.4062 - acc: 0.8334\n",
      "Epoch 15/100\n",
      "8000/8000 [==============================] - 2s 291us/step - loss: 0.4057 - acc: 0.8349\n",
      "Epoch 16/100\n",
      "8000/8000 [==============================] - 2s 278us/step - loss: 0.4057 - acc: 0.8345\n",
      "Epoch 17/100\n",
      "8000/8000 [==============================] - 2s 289us/step - loss: 0.4052 - acc: 0.8332\n",
      "Epoch 18/100\n",
      "8000/8000 [==============================] - 2s 279us/step - loss: 0.4048 - acc: 0.8339\n",
      "Epoch 19/100\n",
      "8000/8000 [==============================] - 2s 284us/step - loss: 0.4050 - acc: 0.8341\n",
      "Epoch 20/100\n",
      "8000/8000 [==============================] - 2s 289us/step - loss: 0.4048 - acc: 0.8342\n",
      "Epoch 21/100\n",
      "8000/8000 [==============================] - 2s 287us/step - loss: 0.4037 - acc: 0.8342\n",
      "Epoch 22/100\n",
      "8000/8000 [==============================] - 2s 277us/step - loss: 0.4043 - acc: 0.8345\n",
      "Epoch 23/100\n",
      "8000/8000 [==============================] - 2s 284us/step - loss: 0.4041 - acc: 0.8340\n",
      "Epoch 24/100\n",
      "8000/8000 [==============================] - 2s 278us/step - loss: 0.4037 - acc: 0.8346\n",
      "Epoch 25/100\n",
      "8000/8000 [==============================] - 2s 288us/step - loss: 0.4035 - acc: 0.8336\n",
      "Epoch 26/100\n",
      "8000/8000 [==============================] - 2s 295us/step - loss: 0.4033 - acc: 0.8346\n",
      "Epoch 27/100\n",
      "8000/8000 [==============================] - 2s 281us/step - loss: 0.4032 - acc: 0.8350\n",
      "Epoch 28/100\n",
      "8000/8000 [==============================] - 2s 289us/step - loss: 0.4033 - acc: 0.8339\n",
      "Epoch 29/100\n",
      "8000/8000 [==============================] - 2s 278us/step - loss: 0.4024 - acc: 0.8371\n",
      "Epoch 30/100\n",
      "8000/8000 [==============================] - 2s 292us/step - loss: 0.4032 - acc: 0.8324\n",
      "Epoch 31/100\n",
      "8000/8000 [==============================] - 2s 281us/step - loss: 0.4024 - acc: 0.8337\n",
      "Epoch 32/100\n",
      "8000/8000 [==============================] - 2s 287us/step - loss: 0.4031 - acc: 0.8329\n",
      "Epoch 33/100\n",
      "8000/8000 [==============================] - 2s 277us/step - loss: 0.4030 - acc: 0.8347\n",
      "Epoch 34/100\n",
      "8000/8000 [==============================] - 2s 288us/step - loss: 0.4025 - acc: 0.8341\n",
      "Epoch 35/100\n",
      "8000/8000 [==============================] - 2s 277us/step - loss: 0.4027 - acc: 0.8351\n",
      "Epoch 36/100\n",
      "8000/8000 [==============================] - 2s 288us/step - loss: 0.4021 - acc: 0.8336\n",
      "Epoch 37/100\n",
      "8000/8000 [==============================] - 2s 285us/step - loss: 0.4021 - acc: 0.8336\n",
      "Epoch 38/100\n",
      "8000/8000 [==============================] - 2s 275us/step - loss: 0.4023 - acc: 0.8359\n",
      "Epoch 39/100\n",
      "8000/8000 [==============================] - 2s 285us/step - loss: 0.4020 - acc: 0.8354\n",
      "Epoch 40/100\n",
      "8000/8000 [==============================] - 2s 277us/step - loss: 0.4019 - acc: 0.8355\n",
      "Epoch 41/100\n",
      "8000/8000 [==============================] - 2s 286us/step - loss: 0.4019 - acc: 0.8356\n",
      "Epoch 42/100\n",
      "8000/8000 [==============================] - 2s 277us/step - loss: 0.4023 - acc: 0.8334\n",
      "Epoch 43/100\n",
      "8000/8000 [==============================] - 2s 279us/step - loss: 0.4013 - acc: 0.8344\n",
      "Epoch 44/100\n",
      "8000/8000 [==============================] - 2s 280us/step - loss: 0.4018 - acc: 0.8352\n",
      "Epoch 45/100\n",
      "8000/8000 [==============================] - 2s 280us/step - loss: 0.4019 - acc: 0.8341\n",
      "Epoch 46/100\n",
      "8000/8000 [==============================] - 2s 277us/step - loss: 0.4016 - acc: 0.8337\n",
      "Epoch 47/100\n",
      "8000/8000 [==============================] - 2s 281us/step - loss: 0.4014 - acc: 0.8344\n",
      "Epoch 48/100\n",
      "8000/8000 [==============================] - 2s 287us/step - loss: 0.4017 - acc: 0.8356\n",
      "Epoch 49/100\n",
      "8000/8000 [==============================] - 2s 277us/step - loss: 0.4017 - acc: 0.8344\n",
      "Epoch 50/100\n",
      "8000/8000 [==============================] - 2s 285us/step - loss: 0.4008 - acc: 0.8365\n",
      "Epoch 51/100\n",
      "8000/8000 [==============================] - 2s 281us/step - loss: 0.4015 - acc: 0.8344\n",
      "Epoch 52/100\n",
      "8000/8000 [==============================] - 2s 282us/step - loss: 0.4016 - acc: 0.8344\n",
      "Epoch 53/100\n",
      "8000/8000 [==============================] - 2s 278us/step - loss: 0.4013 - acc: 0.8350\n",
      "Epoch 54/100\n",
      "8000/8000 [==============================] - 2s 283us/step - loss: 0.4014 - acc: 0.8351\n",
      "Epoch 55/100\n",
      "8000/8000 [==============================] - 2s 282us/step - loss: 0.4013 - acc: 0.8341\n",
      "Epoch 56/100\n",
      "8000/8000 [==============================] - 2s 280us/step - loss: 0.4017 - acc: 0.8352\n",
      "Epoch 57/100\n",
      "8000/8000 [==============================] - 2s 296us/step - loss: 0.4012 - acc: 0.8355\n",
      "Epoch 58/100\n",
      "8000/8000 [==============================] - 2s 281us/step - loss: 0.4011 - acc: 0.8332\n",
      "Epoch 59/100\n",
      "8000/8000 [==============================] - 2s 278us/step - loss: 0.4010 - acc: 0.8340\n",
      "Epoch 60/100\n",
      "8000/8000 [==============================] - 2s 277us/step - loss: 0.4018 - acc: 0.8351\n",
      "Epoch 61/100\n",
      "8000/8000 [==============================] - 2s 282us/step - loss: 0.4010 - acc: 0.8342\n",
      "Epoch 62/100\n",
      "8000/8000 [==============================] - 2s 281us/step - loss: 0.4013 - acc: 0.8337\n",
      "Epoch 63/100\n",
      "8000/8000 [==============================] - 2s 278us/step - loss: 0.4012 - acc: 0.8344\n",
      "Epoch 64/100\n",
      "8000/8000 [==============================] - 2s 284us/step - loss: 0.4012 - acc: 0.8354\n",
      "Epoch 65/100\n",
      "8000/8000 [==============================] - 2s 286us/step - loss: 0.4006 - acc: 0.8342\n",
      "Epoch 66/100\n",
      "8000/8000 [==============================] - 2s 280us/step - loss: 0.4011 - acc: 0.8331\n",
      "Epoch 67/100\n",
      "8000/8000 [==============================] - 2s 273us/step - loss: 0.4007 - acc: 0.8349\n",
      "Epoch 68/100\n",
      "8000/8000 [==============================] - 2s 291us/step - loss: 0.4010 - acc: 0.8326\n",
      "Epoch 69/100\n",
      "8000/8000 [==============================] - 2s 286us/step - loss: 0.4013 - acc: 0.8342\n",
      "Epoch 70/100\n",
      "8000/8000 [==============================] - 2s 282us/step - loss: 0.4011 - acc: 0.8355\n",
      "Epoch 71/100\n",
      "8000/8000 [==============================] - 2s 280us/step - loss: 0.4008 - acc: 0.8347\n",
      "Epoch 72/100\n",
      "8000/8000 [==============================] - 2s 285us/step - loss: 0.4007 - acc: 0.8337\n",
      "Epoch 73/100\n",
      "8000/8000 [==============================] - 2s 276us/step - loss: 0.4005 - acc: 0.8337\n",
      "Epoch 74/100\n",
      "8000/8000 [==============================] - 2s 279us/step - loss: 0.4020 - acc: 0.8355\n",
      "Epoch 75/100\n",
      "8000/8000 [==============================] - 2s 277us/step - loss: 0.4008 - acc: 0.8335\n",
      "Epoch 76/100\n",
      "8000/8000 [==============================] - 2s 284us/step - loss: 0.4014 - acc: 0.8339\n",
      "Epoch 77/100\n",
      "8000/8000 [==============================] - 2s 280us/step - loss: 0.4008 - acc: 0.8341\n",
      "Epoch 78/100\n",
      "8000/8000 [==============================] - 2s 285us/step - loss: 0.4014 - acc: 0.8334\n",
      "Epoch 79/100\n"
     ]
    },
    {
     "name": "stdout",
     "output_type": "stream",
     "text": [
      "8000/8000 [==============================] - 2s 286us/step - loss: 0.4009 - acc: 0.8369\n",
      "Epoch 80/100\n",
      "8000/8000 [==============================] - 2s 274us/step - loss: 0.4006 - acc: 0.8339\n",
      "Epoch 81/100\n",
      "8000/8000 [==============================] - 2s 277us/step - loss: 0.4008 - acc: 0.8340\n",
      "Epoch 82/100\n",
      "8000/8000 [==============================] - 2s 276us/step - loss: 0.4007 - acc: 0.8354\n",
      "Epoch 83/100\n",
      "8000/8000 [==============================] - 2s 276us/step - loss: 0.4010 - acc: 0.8332\n",
      "Epoch 84/100\n",
      "8000/8000 [==============================] - 2s 272us/step - loss: 0.4007 - acc: 0.8340\n",
      "Epoch 85/100\n",
      "8000/8000 [==============================] - 2s 280us/step - loss: 0.4004 - acc: 0.8351\n",
      "Epoch 86/100\n",
      "8000/8000 [==============================] - 2s 272us/step - loss: 0.4008 - acc: 0.8341\n",
      "Epoch 87/100\n",
      "8000/8000 [==============================] - 2s 275us/step - loss: 0.4013 - acc: 0.8362\n",
      "Epoch 88/100\n",
      "8000/8000 [==============================] - 2s 277us/step - loss: 0.4010 - acc: 0.8347\n",
      "Epoch 89/100\n",
      "8000/8000 [==============================] - 2s 278us/step - loss: 0.4004 - acc: 0.8345\n",
      "Epoch 90/100\n",
      "8000/8000 [==============================] - 2s 283us/step - loss: 0.4001 - acc: 0.8355\n",
      "Epoch 91/100\n",
      "8000/8000 [==============================] - 2s 273us/step - loss: 0.4007 - acc: 0.8350\n",
      "Epoch 92/100\n",
      "8000/8000 [==============================] - 2s 279us/step - loss: 0.4006 - acc: 0.8326\n",
      "Epoch 93/100\n",
      "8000/8000 [==============================] - 2s 273us/step - loss: 0.4009 - acc: 0.8351\n",
      "Epoch 94/100\n",
      "8000/8000 [==============================] - 2s 274us/step - loss: 0.4003 - acc: 0.8356\n",
      "Epoch 95/100\n",
      "8000/8000 [==============================] - 2s 273us/step - loss: 0.4006 - acc: 0.8334\n",
      "Epoch 96/100\n",
      "8000/8000 [==============================] - 2s 281us/step - loss: 0.4004 - acc: 0.8345\n",
      "Epoch 97/100\n",
      "8000/8000 [==============================] - 2s 283us/step - loss: 0.4004 - acc: 0.8322\n",
      "Epoch 98/100\n",
      "8000/8000 [==============================] - 2s 269us/step - loss: 0.4006 - acc: 0.8362\n",
      "Epoch 99/100\n",
      "8000/8000 [==============================] - 2s 278us/step - loss: 0.4006 - acc: 0.8341\n",
      "Epoch 100/100\n",
      "8000/8000 [==============================] - 2s 284us/step - loss: 0.4002 - acc: 0.8355\n"
     ]
    },
    {
     "data": {
      "text/plain": [
       "<keras.callbacks.History at 0x7fd323212f90>"
      ]
     },
     "execution_count": 59,
     "metadata": {},
     "output_type": "execute_result"
    }
   ],
   "source": [
    "classifier.fit(X_train, y_train, batch_size=10, epochs=100)"
   ]
  },
  {
   "cell_type": "code",
   "execution_count": 60,
   "metadata": {},
   "outputs": [],
   "source": [
    "y_pred = classifier.predict(X_test)"
   ]
  },
  {
   "cell_type": "code",
   "execution_count": 61,
   "metadata": {},
   "outputs": [],
   "source": [
    "y_pred = (y_pred > 0.5)"
   ]
  },
  {
   "cell_type": "code",
   "execution_count": 62,
   "metadata": {},
   "outputs": [
    {
     "data": {
      "text/plain": [
       "array([[False],\n",
       "       [False],\n",
       "       [False],\n",
       "       ...,\n",
       "       [False],\n",
       "       [False],\n",
       "       [False]])"
      ]
     },
     "execution_count": 62,
     "metadata": {},
     "output_type": "execute_result"
    }
   ],
   "source": [
    "y_pred"
   ]
  },
  {
   "cell_type": "code",
   "execution_count": 63,
   "metadata": {},
   "outputs": [],
   "source": [
    "from sklearn.metrics import confusion_matrix\n",
    "cm = confusion_matrix(y_test, y_pred)"
   ]
  },
  {
   "cell_type": "code",
   "execution_count": 64,
   "metadata": {},
   "outputs": [
    {
     "data": {
      "text/plain": [
       "array([[1531,   64],\n",
       "       [ 248,  157]])"
      ]
     },
     "execution_count": 64,
     "metadata": {},
     "output_type": "execute_result"
    }
   ],
   "source": [
    "cm"
   ]
  },
  {
   "cell_type": "code",
   "execution_count": 69,
   "metadata": {},
   "outputs": [
    {
     "data": {
      "text/plain": [
       "1688"
      ]
     },
     "execution_count": 69,
     "metadata": {},
     "output_type": "execute_result"
    }
   ],
   "source": [
    "(1531 + 157)"
   ]
  },
  {
   "cell_type": "code",
   "execution_count": null,
   "metadata": {},
   "outputs": [],
   "source": []
  },
  {
   "cell_type": "code",
   "execution_count": null,
   "metadata": {},
   "outputs": [],
   "source": []
  }
 ],
 "metadata": {
  "kernelspec": {
   "display_name": "Python 3",
   "language": "python",
   "name": "python3"
  },
  "language_info": {
   "codemirror_mode": {
    "name": "ipython",
    "version": 2
   },
   "file_extension": ".py",
   "mimetype": "text/x-python",
   "name": "python",
   "nbconvert_exporter": "python",
   "pygments_lexer": "ipython2",
   "version": "2.7.17"
  }
 },
 "nbformat": 4,
 "nbformat_minor": 2
}
