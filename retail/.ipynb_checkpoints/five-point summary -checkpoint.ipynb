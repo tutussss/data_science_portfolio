{
 "cells": [
  {
   "cell_type": "code",
   "execution_count": 1,
   "metadata": {},
   "outputs": [],
   "source": [
    "import numpy as np"
   ]
  },
  {
   "cell_type": "code",
   "execution_count": 2,
   "metadata": {},
   "outputs": [],
   "source": [
    "bboomers = np.array([14230, 345, 1912, 472, 63, 861, 270, 713])"
   ]
  },
  {
   "cell_type": "code",
   "execution_count": 3,
   "metadata": {},
   "outputs": [],
   "source": [
    "fivepoints = [np.min(bboomers), np.percentile(bboomers, 25, interpolation='midpoint'), np.median(bboomers),\n",
    "            np.percentile(bboomers, 75, interpolation='midpoint'), np.max(bboomers)]"
   ]
  },
  {
   "cell_type": "code",
   "execution_count": 4,
   "metadata": {},
   "outputs": [
    {
     "name": "stdout",
     "output_type": "stream",
     "text": [
      "63\n",
      "307.5\n",
      "592.5\n",
      "1386.5\n",
      "14230\n"
     ]
    }
   ],
   "source": [
    "for fivepointsummary in fivepoints:\n",
    "    print(fivepointsummary)"
   ]
  },
  {
   "cell_type": "markdown",
   "metadata": {},
   "source": [
    "#### repeat example "
   ]
  },
  {
   "cell_type": "code",
   "execution_count": 8,
   "metadata": {},
   "outputs": [
    {
     "name": "stdout",
     "output_type": "stream",
     "text": [
      "70\n",
      "82.5\n",
      "576.5\n",
      "878.5\n",
      "12519\n"
     ]
    }
   ],
   "source": [
    "millennials= np.array([12519, 845, 912, 72, 93, 615, 70, 538])\n",
    "fivepoints = [np.min(millennials ), np.percentile(millennials , 25, interpolation=\"midpoint\"), np.median(millennials ),np.percentile(millennials , 75, interpolation=\"midpoint\"),np.max(millennials)]\n",
    "for fivepointsummary in fivepoints:\n",
    "    print(fivepointsummary)"
   ]
  },
  {
   "cell_type": "code",
   "execution_count": null,
   "metadata": {},
   "outputs": [],
   "source": []
  }
 ],
 "metadata": {
  "kernelspec": {
   "display_name": "Python 3",
   "language": "python",
   "name": "python3"
  },
  "language_info": {
   "codemirror_mode": {
    "name": "ipython",
    "version": 3
   },
   "file_extension": ".py",
   "mimetype": "text/x-python",
   "name": "python",
   "nbconvert_exporter": "python",
   "pygments_lexer": "ipython3",
   "version": "3.7.4"
  }
 },
 "nbformat": 4,
 "nbformat_minor": 2
}
