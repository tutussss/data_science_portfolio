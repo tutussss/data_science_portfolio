{
 "cells": [
  {
   "cell_type": "code",
   "execution_count": 1,
   "metadata": {},
   "outputs": [],
   "source": [
    "import numpy as np\n",
    "import pandas as pd\n",
    "import matplotlib.pyplot as plt\n",
    "import seaborn as sb\n",
    "\n",
    "%matplotlib inline"
   ]
  },
  {
   "cell_type": "code",
   "execution_count": 2,
   "metadata": {},
   "outputs": [],
   "source": [
    "fuel_econ = pd.read_csv('./data/fuel_econ.csv')"
   ]
  },
  {
   "cell_type": "code",
   "execution_count": 3,
   "metadata": {},
   "outputs": [
    {
     "data": {
      "text/plain": [
       "Index(['id', 'make', 'model', 'year', 'VClass', 'drive', 'trans', 'fuelType',\n",
       "       'cylinders', 'displ', 'pv2', 'pv4', 'city', 'UCity', 'highway',\n",
       "       'UHighway', 'comb', 'co2', 'feScore', 'ghgScore'],\n",
       "      dtype='object')"
      ]
     },
     "execution_count": 3,
     "metadata": {},
     "output_type": "execute_result"
    }
   ],
   "source": [
    "fuel_econ.columns"
   ]
  },
  {
   "cell_type": "code",
   "execution_count": 5,
   "metadata": {},
   "outputs": [
    {
     "data": {
      "text/plain": [
       "array(['Subcompact Cars', 'Compact Cars', 'Midsize Cars', 'Large Cars',\n",
       "       'Minicompact Cars'], dtype=object)"
      ]
     },
     "execution_count": 5,
     "metadata": {},
     "output_type": "execute_result"
    }
   ],
   "source": [
    "fuel_econ.VClass.unique()"
   ]
  },
  {
   "cell_type": "code",
   "execution_count": 6,
   "metadata": {},
   "outputs": [],
   "source": [
    "sedan_classes = ['Minicompact Cars', 'Subcompact Cars', 'Compact Cars', 'Midsize Cars', 'Large Cars']"
   ]
  },
  {
   "cell_type": "code",
   "execution_count": 7,
   "metadata": {},
   "outputs": [],
   "source": [
    "vclasses = pd.api.types.CategoricalDtype(ordered = True, categories= sedan_classes)\n",
    "fuel_econ['VClass'] = fuel_econ['VClass'].astype(vclasses);"
   ]
  },
  {
   "cell_type": "code",
   "execution_count": 8,
   "metadata": {},
   "outputs": [],
   "source": [
    "fuel_econ['trans_type'] = fuel_econ['trans'].apply(lambda x: x.split()[0])"
   ]
  },
  {
   "cell_type": "code",
   "execution_count": 9,
   "metadata": {
    "scrolled": true
   },
   "outputs": [
    {
     "data": {
      "text/html": [
       "<div>\n",
       "<style scoped>\n",
       "    .dataframe tbody tr th:only-of-type {\n",
       "        vertical-align: middle;\n",
       "    }\n",
       "\n",
       "    .dataframe tbody tr th {\n",
       "        vertical-align: top;\n",
       "    }\n",
       "\n",
       "    .dataframe thead th {\n",
       "        text-align: right;\n",
       "    }\n",
       "</style>\n",
       "<table border=\"1\" class=\"dataframe\">\n",
       "  <thead>\n",
       "    <tr style=\"text-align: right;\">\n",
       "      <th></th>\n",
       "      <th>id</th>\n",
       "      <th>make</th>\n",
       "      <th>model</th>\n",
       "      <th>year</th>\n",
       "      <th>VClass</th>\n",
       "      <th>drive</th>\n",
       "      <th>trans</th>\n",
       "      <th>fuelType</th>\n",
       "      <th>cylinders</th>\n",
       "      <th>displ</th>\n",
       "      <th>...</th>\n",
       "      <th>pv4</th>\n",
       "      <th>city</th>\n",
       "      <th>UCity</th>\n",
       "      <th>highway</th>\n",
       "      <th>UHighway</th>\n",
       "      <th>comb</th>\n",
       "      <th>co2</th>\n",
       "      <th>feScore</th>\n",
       "      <th>ghgScore</th>\n",
       "      <th>trans_type</th>\n",
       "    </tr>\n",
       "  </thead>\n",
       "  <tbody>\n",
       "    <tr>\n",
       "      <th>0</th>\n",
       "      <td>32204</td>\n",
       "      <td>Nissan</td>\n",
       "      <td>GT-R</td>\n",
       "      <td>2013</td>\n",
       "      <td>Subcompact Cars</td>\n",
       "      <td>All-Wheel Drive</td>\n",
       "      <td>Automatic (AM6)</td>\n",
       "      <td>Premium Gasoline</td>\n",
       "      <td>6</td>\n",
       "      <td>3.8</td>\n",
       "      <td>...</td>\n",
       "      <td>0</td>\n",
       "      <td>16.4596</td>\n",
       "      <td>20.2988</td>\n",
       "      <td>22.5568</td>\n",
       "      <td>30.1798</td>\n",
       "      <td>18.7389</td>\n",
       "      <td>471</td>\n",
       "      <td>4</td>\n",
       "      <td>4</td>\n",
       "      <td>Automatic</td>\n",
       "    </tr>\n",
       "    <tr>\n",
       "      <th>1</th>\n",
       "      <td>32205</td>\n",
       "      <td>Volkswagen</td>\n",
       "      <td>CC</td>\n",
       "      <td>2013</td>\n",
       "      <td>Compact Cars</td>\n",
       "      <td>Front-Wheel Drive</td>\n",
       "      <td>Automatic (AM-S6)</td>\n",
       "      <td>Premium Gasoline</td>\n",
       "      <td>4</td>\n",
       "      <td>2.0</td>\n",
       "      <td>...</td>\n",
       "      <td>0</td>\n",
       "      <td>21.8706</td>\n",
       "      <td>26.9770</td>\n",
       "      <td>31.0367</td>\n",
       "      <td>42.4936</td>\n",
       "      <td>25.2227</td>\n",
       "      <td>349</td>\n",
       "      <td>6</td>\n",
       "      <td>6</td>\n",
       "      <td>Automatic</td>\n",
       "    </tr>\n",
       "    <tr>\n",
       "      <th>2</th>\n",
       "      <td>32206</td>\n",
       "      <td>Volkswagen</td>\n",
       "      <td>CC</td>\n",
       "      <td>2013</td>\n",
       "      <td>Compact Cars</td>\n",
       "      <td>Front-Wheel Drive</td>\n",
       "      <td>Automatic (S6)</td>\n",
       "      <td>Premium Gasoline</td>\n",
       "      <td>6</td>\n",
       "      <td>3.6</td>\n",
       "      <td>...</td>\n",
       "      <td>0</td>\n",
       "      <td>17.4935</td>\n",
       "      <td>21.2000</td>\n",
       "      <td>26.5716</td>\n",
       "      <td>35.1000</td>\n",
       "      <td>20.6716</td>\n",
       "      <td>429</td>\n",
       "      <td>5</td>\n",
       "      <td>5</td>\n",
       "      <td>Automatic</td>\n",
       "    </tr>\n",
       "    <tr>\n",
       "      <th>3</th>\n",
       "      <td>32207</td>\n",
       "      <td>Volkswagen</td>\n",
       "      <td>CC 4motion</td>\n",
       "      <td>2013</td>\n",
       "      <td>Compact Cars</td>\n",
       "      <td>All-Wheel Drive</td>\n",
       "      <td>Automatic (S6)</td>\n",
       "      <td>Premium Gasoline</td>\n",
       "      <td>6</td>\n",
       "      <td>3.6</td>\n",
       "      <td>...</td>\n",
       "      <td>0</td>\n",
       "      <td>16.9415</td>\n",
       "      <td>20.5000</td>\n",
       "      <td>25.2190</td>\n",
       "      <td>33.5000</td>\n",
       "      <td>19.8774</td>\n",
       "      <td>446</td>\n",
       "      <td>5</td>\n",
       "      <td>5</td>\n",
       "      <td>Automatic</td>\n",
       "    </tr>\n",
       "    <tr>\n",
       "      <th>4</th>\n",
       "      <td>32208</td>\n",
       "      <td>Chevrolet</td>\n",
       "      <td>Malibu eAssist</td>\n",
       "      <td>2013</td>\n",
       "      <td>Midsize Cars</td>\n",
       "      <td>Front-Wheel Drive</td>\n",
       "      <td>Automatic (S6)</td>\n",
       "      <td>Regular Gasoline</td>\n",
       "      <td>4</td>\n",
       "      <td>2.4</td>\n",
       "      <td>...</td>\n",
       "      <td>95</td>\n",
       "      <td>24.7726</td>\n",
       "      <td>31.9796</td>\n",
       "      <td>35.5340</td>\n",
       "      <td>51.8816</td>\n",
       "      <td>28.6813</td>\n",
       "      <td>310</td>\n",
       "      <td>8</td>\n",
       "      <td>8</td>\n",
       "      <td>Automatic</td>\n",
       "    </tr>\n",
       "    <tr>\n",
       "      <th>...</th>\n",
       "      <td>...</td>\n",
       "      <td>...</td>\n",
       "      <td>...</td>\n",
       "      <td>...</td>\n",
       "      <td>...</td>\n",
       "      <td>...</td>\n",
       "      <td>...</td>\n",
       "      <td>...</td>\n",
       "      <td>...</td>\n",
       "      <td>...</td>\n",
       "      <td>...</td>\n",
       "      <td>...</td>\n",
       "      <td>...</td>\n",
       "      <td>...</td>\n",
       "      <td>...</td>\n",
       "      <td>...</td>\n",
       "      <td>...</td>\n",
       "      <td>...</td>\n",
       "      <td>...</td>\n",
       "      <td>...</td>\n",
       "      <td>...</td>\n",
       "    </tr>\n",
       "    <tr>\n",
       "      <th>3924</th>\n",
       "      <td>39882</td>\n",
       "      <td>Toyota</td>\n",
       "      <td>Prius Prime</td>\n",
       "      <td>2018</td>\n",
       "      <td>Midsize Cars</td>\n",
       "      <td>Front-Wheel Drive</td>\n",
       "      <td>Automatic (variable gear ratios)</td>\n",
       "      <td>Regular Gasoline</td>\n",
       "      <td>4</td>\n",
       "      <td>1.8</td>\n",
       "      <td>...</td>\n",
       "      <td>0</td>\n",
       "      <td>55.2206</td>\n",
       "      <td>78.8197</td>\n",
       "      <td>53.0000</td>\n",
       "      <td>73.6525</td>\n",
       "      <td>54.4329</td>\n",
       "      <td>78</td>\n",
       "      <td>10</td>\n",
       "      <td>10</td>\n",
       "      <td>Automatic</td>\n",
       "    </tr>\n",
       "    <tr>\n",
       "      <th>3925</th>\n",
       "      <td>39898</td>\n",
       "      <td>Hyundai</td>\n",
       "      <td>Sonata Hybrid</td>\n",
       "      <td>2018</td>\n",
       "      <td>Midsize Cars</td>\n",
       "      <td>Front-Wheel Drive</td>\n",
       "      <td>Automatic (AM6)</td>\n",
       "      <td>Regular Gasoline</td>\n",
       "      <td>4</td>\n",
       "      <td>2.0</td>\n",
       "      <td>...</td>\n",
       "      <td>106</td>\n",
       "      <td>39.0000</td>\n",
       "      <td>55.9000</td>\n",
       "      <td>44.3066</td>\n",
       "      <td>64.0000</td>\n",
       "      <td>41.0000</td>\n",
       "      <td>217</td>\n",
       "      <td>9</td>\n",
       "      <td>9</td>\n",
       "      <td>Automatic</td>\n",
       "    </tr>\n",
       "    <tr>\n",
       "      <th>3926</th>\n",
       "      <td>39899</td>\n",
       "      <td>Hyundai</td>\n",
       "      <td>Sonata Hybrid SE</td>\n",
       "      <td>2018</td>\n",
       "      <td>Midsize Cars</td>\n",
       "      <td>Front-Wheel Drive</td>\n",
       "      <td>Automatic (AM6)</td>\n",
       "      <td>Regular Gasoline</td>\n",
       "      <td>4</td>\n",
       "      <td>2.0</td>\n",
       "      <td>...</td>\n",
       "      <td>106</td>\n",
       "      <td>40.0000</td>\n",
       "      <td>56.0000</td>\n",
       "      <td>46.0000</td>\n",
       "      <td>64.0000</td>\n",
       "      <td>42.0000</td>\n",
       "      <td>212</td>\n",
       "      <td>9</td>\n",
       "      <td>9</td>\n",
       "      <td>Automatic</td>\n",
       "    </tr>\n",
       "    <tr>\n",
       "      <th>3927</th>\n",
       "      <td>39900</td>\n",
       "      <td>Lexus</td>\n",
       "      <td>LS 500</td>\n",
       "      <td>2018</td>\n",
       "      <td>Midsize Cars</td>\n",
       "      <td>Rear-Wheel Drive</td>\n",
       "      <td>Automatic (S10)</td>\n",
       "      <td>Premium Gasoline</td>\n",
       "      <td>6</td>\n",
       "      <td>3.4</td>\n",
       "      <td>...</td>\n",
       "      <td>0</td>\n",
       "      <td>19.2200</td>\n",
       "      <td>24.2000</td>\n",
       "      <td>30.2863</td>\n",
       "      <td>43.4000</td>\n",
       "      <td>23.0021</td>\n",
       "      <td>387</td>\n",
       "      <td>5</td>\n",
       "      <td>5</td>\n",
       "      <td>Automatic</td>\n",
       "    </tr>\n",
       "    <tr>\n",
       "      <th>3928</th>\n",
       "      <td>39901</td>\n",
       "      <td>Lexus</td>\n",
       "      <td>LS 500 AWD</td>\n",
       "      <td>2018</td>\n",
       "      <td>Midsize Cars</td>\n",
       "      <td>All-Wheel Drive</td>\n",
       "      <td>Automatic (S10)</td>\n",
       "      <td>Premium Gasoline</td>\n",
       "      <td>6</td>\n",
       "      <td>3.4</td>\n",
       "      <td>...</td>\n",
       "      <td>0</td>\n",
       "      <td>18.0431</td>\n",
       "      <td>22.6000</td>\n",
       "      <td>27.0000</td>\n",
       "      <td>39.3000</td>\n",
       "      <td>21.3945</td>\n",
       "      <td>417</td>\n",
       "      <td>4</td>\n",
       "      <td>4</td>\n",
       "      <td>Automatic</td>\n",
       "    </tr>\n",
       "  </tbody>\n",
       "</table>\n",
       "<p>3929 rows × 21 columns</p>\n",
       "</div>"
      ],
      "text/plain": [
       "         id        make             model  year           VClass  \\\n",
       "0     32204      Nissan              GT-R  2013  Subcompact Cars   \n",
       "1     32205  Volkswagen                CC  2013     Compact Cars   \n",
       "2     32206  Volkswagen                CC  2013     Compact Cars   \n",
       "3     32207  Volkswagen        CC 4motion  2013     Compact Cars   \n",
       "4     32208   Chevrolet    Malibu eAssist  2013     Midsize Cars   \n",
       "...     ...         ...               ...   ...              ...   \n",
       "3924  39882      Toyota       Prius Prime  2018     Midsize Cars   \n",
       "3925  39898     Hyundai     Sonata Hybrid  2018     Midsize Cars   \n",
       "3926  39899     Hyundai  Sonata Hybrid SE  2018     Midsize Cars   \n",
       "3927  39900       Lexus            LS 500  2018     Midsize Cars   \n",
       "3928  39901       Lexus        LS 500 AWD  2018     Midsize Cars   \n",
       "\n",
       "                  drive                             trans          fuelType  \\\n",
       "0       All-Wheel Drive                   Automatic (AM6)  Premium Gasoline   \n",
       "1     Front-Wheel Drive                 Automatic (AM-S6)  Premium Gasoline   \n",
       "2     Front-Wheel Drive                    Automatic (S6)  Premium Gasoline   \n",
       "3       All-Wheel Drive                    Automatic (S6)  Premium Gasoline   \n",
       "4     Front-Wheel Drive                    Automatic (S6)  Regular Gasoline   \n",
       "...                 ...                               ...               ...   \n",
       "3924  Front-Wheel Drive  Automatic (variable gear ratios)  Regular Gasoline   \n",
       "3925  Front-Wheel Drive                   Automatic (AM6)  Regular Gasoline   \n",
       "3926  Front-Wheel Drive                   Automatic (AM6)  Regular Gasoline   \n",
       "3927   Rear-Wheel Drive                   Automatic (S10)  Premium Gasoline   \n",
       "3928    All-Wheel Drive                   Automatic (S10)  Premium Gasoline   \n",
       "\n",
       "      cylinders  displ  ...  pv4     city    UCity  highway  UHighway  \\\n",
       "0             6    3.8  ...    0  16.4596  20.2988  22.5568   30.1798   \n",
       "1             4    2.0  ...    0  21.8706  26.9770  31.0367   42.4936   \n",
       "2             6    3.6  ...    0  17.4935  21.2000  26.5716   35.1000   \n",
       "3             6    3.6  ...    0  16.9415  20.5000  25.2190   33.5000   \n",
       "4             4    2.4  ...   95  24.7726  31.9796  35.5340   51.8816   \n",
       "...         ...    ...  ...  ...      ...      ...      ...       ...   \n",
       "3924          4    1.8  ...    0  55.2206  78.8197  53.0000   73.6525   \n",
       "3925          4    2.0  ...  106  39.0000  55.9000  44.3066   64.0000   \n",
       "3926          4    2.0  ...  106  40.0000  56.0000  46.0000   64.0000   \n",
       "3927          6    3.4  ...    0  19.2200  24.2000  30.2863   43.4000   \n",
       "3928          6    3.4  ...    0  18.0431  22.6000  27.0000   39.3000   \n",
       "\n",
       "         comb  co2  feScore  ghgScore  trans_type  \n",
       "0     18.7389  471        4         4   Automatic  \n",
       "1     25.2227  349        6         6   Automatic  \n",
       "2     20.6716  429        5         5   Automatic  \n",
       "3     19.8774  446        5         5   Automatic  \n",
       "4     28.6813  310        8         8   Automatic  \n",
       "...       ...  ...      ...       ...         ...  \n",
       "3924  54.4329   78       10        10   Automatic  \n",
       "3925  41.0000  217        9         9   Automatic  \n",
       "3926  42.0000  212        9         9   Automatic  \n",
       "3927  23.0021  387        5         5   Automatic  \n",
       "3928  21.3945  417        4         4   Automatic  \n",
       "\n",
       "[3929 rows x 21 columns]"
      ]
     },
     "execution_count": 9,
     "metadata": {},
     "output_type": "execute_result"
    }
   ],
   "source": [
    "fuel_econ"
   ]
  },
  {
   "cell_type": "markdown",
   "metadata": {},
   "source": [
    "marker can be used for shape of diff categories but takes single string, so we create loop and plot each subset one by one"
   ]
  },
  {
   "cell_type": "code",
   "execution_count": 10,
   "metadata": {},
   "outputs": [],
   "source": [
    "ttype_markers = [['Automatic', 'o'], ['Manual', '^']]"
   ]
  },
  {
   "cell_type": "code",
   "execution_count": 15,
   "metadata": {},
   "outputs": [
    {
     "data": {
      "text/plain": [
       "<matplotlib.legend.Legend at 0x7fd09c118390>"
      ]
     },
     "execution_count": 15,
     "metadata": {},
     "output_type": "execute_result"
    },
    {
     "data": {
      "image/png": "[encoded data removed]",
      "text/plain": [
       "<Figure size 432x288 with 1 Axes>"
      ]
     },
     "metadata": {
      "needs_background": "light"
     },
     "output_type": "display_data"
    }
   ],
   "source": [
    "for ttype, marker in ttype_markers:\n",
    "    plot_data = fuel_econ.loc[fuel_econ['trans_type']==ttype]\n",
    "    sb.regplot(data=plot_data, x= 'displ', y='comb',\n",
    "          x_jitter=0.04, fit_reg=False,\n",
    "           marker = marker)\n",
    "\n",
    "plt.xlabel('Displacement')\n",
    "plt.ylabel('Combined fuel eff')\n",
    "plt.legend(['Automatic', 'Manual'])"
   ]
  },
  {
   "cell_type": "markdown",
   "metadata": {},
   "source": [
    "#### we already plotted displ and comb with trans as shape, we can still add co2 since its numeric as size "
   ]
  },
  {
   "cell_type": "code",
   "execution_count": 18,
   "metadata": {},
   "outputs": [
    {
     "data": {
      "text/plain": [
       "<matplotlib.legend.Legend at 0x7fd09bfa6f90>"
      ]
     },
     "execution_count": 18,
     "metadata": {},
     "output_type": "execute_result"
    },
    {
     "data": {
      "image/png": "[encoded data removed]",
      "text/plain": [
       "<Figure size 432x288 with 1 Axes>"
      ]
     },
     "metadata": {
      "needs_background": "light"
     },
     "output_type": "display_data"
    }
   ],
   "source": [
    "for ttype, marker in ttype_markers:\n",
    "    plot_data = fuel_econ.loc[fuel_econ['trans_type']==ttype]\n",
    "    sb.regplot(data=plot_data, x= 'displ', y='comb',\n",
    "          x_jitter=0.04, fit_reg=False,\n",
    "           scatter_kws={'s': fuel_econ['co2']/2})\n",
    "\n",
    "plt.xlabel('Displacement')\n",
    "plt.ylabel('Combined fuel eff')\n",
    "plt.legend(['Automatic', 'Manual'])"
   ]
  },
  {
   "cell_type": "code",
   "execution_count": null,
   "metadata": {},
   "outputs": [],
   "source": []
  }
 ],
 "metadata": {
  "kernelspec": {
   "display_name": "Python 3",
   "language": "python",
   "name": "python3"
  },
  "language_info": {
   "codemirror_mode": {
    "name": "ipython",
    "version": 3
   },
   "file_extension": ".py",
   "mimetype": "text/x-python",
   "name": "python",
   "nbconvert_exporter": "python",
   "pygments_lexer": "ipython3",
   "version": "3.7.4"
  }
 },
 "nbformat": 4,
 "nbformat_minor": 2
}
