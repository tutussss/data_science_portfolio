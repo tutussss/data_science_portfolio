{
 "cells": [
  {
   "cell_type": "code",
   "execution_count": 8,
   "metadata": {},
   "outputs": [],
   "source": [
    "\"\"\"Splitting text data into tokens.\"\"\"\n",
    "\n",
    "import re\n",
    "\n",
    "def sent_tokenize(text):\n",
    "    \"\"\"Split text into sentences.\"\"\"\n",
    "    # TODO: Split text by sentence delimiters (remove delimiters)\n",
    "    manipulated_text=re.split(r\"\\n\",text)\n",
    "    \n",
    "    i=0\n",
    "    # TODO: Remove leading and trailing spaces from each sentence\n",
    "    for sentense in manipulated_text:\n",
    "        manipulated_text[i]=sentense.lstrip()\n",
    "        manipulated_text[i]=sentense.rstrip()\n",
    "        i+=1\n",
    "    \n",
    "    # TODO: Return a list of sentences (remove blank strings)\n",
    "    return  manipulated_text\n"
   ]
  },
  {
   "cell_type": "code",
   "execution_count": 9,
   "metadata": {},
   "outputs": [
    {
     "name": "stdout",
     "output_type": "stream",
     "text": [
      "['this is my name', ' and this is my life']\n"
     ]
    }
   ],
   "source": [
    "print(sent_tokenize('this is my name \\n and this is my life'))"
   ]
  },
  {
   "cell_type": "code",
   "execution_count": 2,
   "metadata": {},
   "outputs": [],
   "source": [
    "\n",
    "\n",
    "def word_tokenize(sent):\n",
    "    \"\"\"Split a sentence into words.\"\"\"\n",
    "    \n",
    "    # TODO: Split sent by word delimiters (remove delimiters)\n",
    "    \n",
    "    # TODO: Remove leading and trailing spaces from each word\n",
    "    \n",
    "    pass  # TODO: Return a list of words (remove blank strings)\n",
    "\n"
   ]
  },
  {
   "cell_type": "code",
   "execution_count": 3,
   "metadata": {},
   "outputs": [],
   "source": [
    "\n",
    "def test_run():\n",
    "    \"\"\"Called on Test Run.\"\"\"\n",
    "\n",
    "    text = \"The first time you see The Second Renaissance it may look boring. Look at it at least twice and definitely watch part 2. It will change your view of the matrix. Are the human people the ones who started the war? Is AI a bad thing?\"\n",
    "    print(\"--- Sample text ---\", text, sep=\"\\n\")\n",
    "    \n",
    "    sentences = sent_tokenize(text)\n",
    "    print(\"\\n--- Sentences ---\")\n",
    "    print(sentences)\n",
    "    \n",
    "    print(\"\\n--- Words ---\")\n",
    "    for sent in sentences:\n",
    "        print(sent)\n",
    "        print(word_tokenize(sent))\n",
    "        print()  # blank line for readability"
   ]
  },
  {
   "cell_type": "code",
   "execution_count": null,
   "metadata": {},
   "outputs": [],
   "source": []
  }
 ],
 "metadata": {
  "kernelspec": {
   "display_name": "Python 3",
   "language": "python",
   "name": "python3"
  },
  "language_info": {
   "codemirror_mode": {
    "name": "ipython",
    "version": 3
   },
   "file_extension": ".py",
   "mimetype": "text/x-python",
   "name": "python",
   "nbconvert_exporter": "python",
   "pygments_lexer": "ipython3",
   "version": "3.7.4"
  }
 },
 "nbformat": 4,
 "nbformat_minor": 2
}
