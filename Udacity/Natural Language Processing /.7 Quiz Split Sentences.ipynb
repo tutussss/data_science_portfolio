{
 "cells": [
  {
   "cell_type": "code",
   "execution_count": 19,
   "metadata": {},
   "outputs": [],
   "source": [
    "\"\"\"Splitting text data into tokens.\"\"\"\n",
    "\n",
    "import re\n",
    "\n",
    "def sent_tokenize(text):\n",
    "    \"\"\"Split text into sentences.\"\"\"\n",
    "    # TODO: Split text by sentence delimiters (remove delimiters)\n",
    "    manipulated_text=re.split(r\"\\n\",text)\n",
    "    \n",
    "    i=0\n",
    "    # TODO: Remove leading and trailing spaces from each sentence\n",
    "    for sentense in manipulated_text:\n",
    "        manipulated_text[i]=sentense.strip()\n",
    "        #manipulated_text[i]=sentense.rstrip()\n",
    "        i+=1\n",
    "    \n",
    "    # TODO: Return a list of sentences (remove blank strings)\n",
    "    return  manipulated_text\n"
   ]
  },
  {
   "cell_type": "code",
   "execution_count": 20,
   "metadata": {},
   "outputs": [
    {
     "name": "stdout",
     "output_type": "stream",
     "text": [
      "['this is my name', 'and this is my life']\n"
     ]
    }
   ],
   "source": [
    "print(sent_tokenize('this is my name \\n and this is my life'))"
   ]
  },
  {
   "cell_type": "code",
   "execution_count": 21,
   "metadata": {},
   "outputs": [],
   "source": [
    "\n",
    "\n",
    "def word_tokenize(sent):\n",
    "    \"\"\"Split a sentence into words.\"\"\"\n",
    "    \n",
    "    # TODO: Split sent by word delimiters (remove delimiters)\n",
    "    manipulated_sent=re.split(r\" \",sent)\n",
    "    \n",
    "    # TODO: Remove leading and trailing spaces from each word\n",
    "    i=0\n",
    "    # TODO: Remove leading and trailing spaces from each sentence\n",
    "    for word in manipulated_sent:\n",
    "        manipulated_sent[i]=word.strip()\n",
    "        #manipulated_text[i]=sentense.rstrip()\n",
    "        i+=1\n",
    "    \n",
    "    return manipulated_sent  # TODO: Return a list of words (remove blank strings)\n",
    "\n"
   ]
  },
  {
   "cell_type": "code",
   "execution_count": 22,
   "metadata": {},
   "outputs": [
    {
     "name": "stdout",
     "output_type": "stream",
     "text": [
      "['this', 'is', 'my', 'name']\n"
     ]
    }
   ],
   "source": [
    "print(word_tokenize(\"this is my name\"))"
   ]
  },
  {
   "cell_type": "code",
   "execution_count": 23,
   "metadata": {},
   "outputs": [],
   "source": [
    "\n",
    "def test_run():\n",
    "    \"\"\"Called on Test Run.\"\"\"\n",
    "\n",
    "    text = \"The first time you see The Second Renaissance it may look boring. Look at it at least twice and definitely watch part 2. It will change your view of the matrix. Are the human people the ones who started the war? Is AI a bad thing?\"\n",
    "    print(\"--- Sample text ---\", text, sep=\"\\n\")\n",
    "    \n",
    "    sentences = sent_tokenize(text)\n",
    "    print(\"\\n--- Sentences ---\")\n",
    "    print(sentences)\n",
    "    \n",
    "    print(\"\\n--- Words ---\")\n",
    "    for sent in sentences:\n",
    "        print(sent)\n",
    "        print(word_tokenize(sent))\n",
    "        print()  # blank line for readability"
   ]
  },
  {
   "cell_type": "code",
   "execution_count": 24,
   "metadata": {},
   "outputs": [
    {
     "name": "stdout",
     "output_type": "stream",
     "text": [
      "--- Sample text ---\n",
      "The first time you see The Second Renaissance it may look boring. Look at it at least twice and definitely watch part 2. It will change your view of the matrix. Are the human people the ones who started the war? Is AI a bad thing?\n",
      "\n",
      "--- Sentences ---\n",
      "['The first time you see The Second Renaissance it may look boring. Look at it at least twice and definitely watch part 2. It will change your view of the matrix. Are the human people the ones who started the war? Is AI a bad thing?']\n",
      "\n",
      "--- Words ---\n",
      "The first time you see The Second Renaissance it may look boring. Look at it at least twice and definitely watch part 2. It will change your view of the matrix. Are the human people the ones who started the war? Is AI a bad thing?\n",
      "['The', 'first', 'time', 'you', 'see', 'The', 'Second', 'Renaissance', 'it', 'may', 'look', 'boring.', 'Look', 'at', 'it', 'at', 'least', 'twice', 'and', 'definitely', 'watch', 'part', '2.', 'It', 'will', 'change', 'your', 'view', 'of', 'the', 'matrix.', 'Are', 'the', 'human', 'people', 'the', 'ones', 'who', 'started', 'the', 'war?', 'Is', 'AI', 'a', 'bad', 'thing?']\n",
      "\n"
     ]
    }
   ],
   "source": [
    "test_run()"
   ]
  },
  {
   "cell_type": "code",
   "execution_count": null,
   "metadata": {},
   "outputs": [],
   "source": []
  }
 ],
 "metadata": {
  "kernelspec": {
   "display_name": "Python 3",
   "language": "python",
   "name": "python3"
  },
  "language_info": {
   "codemirror_mode": {
    "name": "ipython",
    "version": 3
   },
   "file_extension": ".py",
   "mimetype": "text/x-python",
   "name": "python",
   "nbconvert_exporter": "python",
   "pygments_lexer": "ipython3",
   "version": "3.7.4"
  }
 },
 "nbformat": 4,
 "nbformat_minor": 2
}
